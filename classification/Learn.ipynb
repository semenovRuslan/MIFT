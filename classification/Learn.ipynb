{
 "cells": [
  {
   "cell_type": "markdown",
   "metadata": {},
   "source": [
    "# Learning model"
   ]
  },
  {
   "cell_type": "code",
   "execution_count": 1,
   "metadata": {
    "collapsed": false
   },
   "outputs": [
    {
     "name": "stderr",
     "output_type": "stream",
     "text": [
      "WARNING (theano.sandbox.cuda): The cuda backend is deprecated and will be removed in the next release (v0.10).  Please switch to the gpuarray backend. You can get more information about how to switch at this URL:\n",
      " https://github.com/Theano/Theano/wiki/Converting-to-the-new-gpu-back-end%28gpuarray%29\n",
      "\n",
      "Using gpu device 0: GeForce GTX 1080 (CNMeM is enabled with initial size: 80.0% of memory, cuDNN 5110)\n",
      "WARNING (theano.sandbox.cuda): The cuda backend is deprecated and will be removed in the next release (v0.10).  Please switch to the gpuarray backend. You can get more information about how to switch at this URL:\n",
      " https://github.com/Theano/Theano/wiki/Converting-to-the-new-gpu-back-end%28gpuarray%29\n",
      "\n"
     ]
    }
   ],
   "source": [
    "from theano.sandbox import cuda\n",
    "cuda.use('gpu0')"
   ]
  },
  {
   "cell_type": "code",
   "execution_count": 3,
   "metadata": {
    "collapsed": false
   },
   "outputs": [],
   "source": [
    "%matplotlib inline\n",
    "from __future__ import print_function, division\n",
    "#path = \"data/state/\"\n",
    "path = \"data/state/sample/\"\n",
    "import utils; reload(utils)\n",
    "from utils import *\n",
    "from IPython.display import FileLink"
   ]
  },
  {
   "cell_type": "code",
   "execution_count": 4,
   "metadata": {
    "collapsed": true
   },
   "outputs": [],
   "source": [
    "batch_size=64"
   ]
  },
  {
   "cell_type": "code",
   "execution_count": 5,
   "metadata": {
    "collapsed": true,
    "hidden": true
   },
   "outputs": [],
   "source": [
    "path = 'data/botles/'"
   ]
  },
  {
   "cell_type": "markdown",
   "metadata": {},
   "source": [
    "## Create batches"
   ]
  },
  {
   "cell_type": "code",
   "execution_count": 7,
   "metadata": {
    "collapsed": false,
    "scrolled": true
   },
   "outputs": [
    {
     "name": "stdout",
     "output_type": "stream",
     "text": [
      "Found 2688 images belonging to 4 classes.\n",
      "Found 672 images belonging to 4 classes.\n",
      "Found 57 images belonging to 1 classes.\n"
     ]
    }
   ],
   "source": [
    "batches = get_batches(path+'train', batch_size=batch_size)\n",
    "val_batches = get_batches(path+'valid', batch_size=batch_size*2, shuffle=False)\n",
    "test_batches = get_batches(path+'test', batch_size=batch_size, shuffle=False)"
   ]
  },
  {
   "cell_type": "code",
   "execution_count": 8,
   "metadata": {
    "collapsed": false
   },
   "outputs": [
    {
     "name": "stdout",
     "output_type": "stream",
     "text": [
      "Found 2688 images belonging to 4 classes.\n",
      "Found 672 images belonging to 4 classes.\n",
      "Found 57 images belonging to 1 classes.\n"
     ]
    }
   ],
   "source": [
    "(val_classes, trn_classes, val_labels, trn_labels, val_filenames, filenames,\n",
    "    test_filenames) = get_classes(path)"
   ]
  },
  {
   "cell_type": "markdown",
   "metadata": {},
   "source": [
    "# Imagenet conv features"
   ]
  },
  {
   "cell_type": "markdown",
   "metadata": {},
   "source": [
    "Since we have so little data, and it is similar to imagenet images (full color photos), using pre-trained VGG weights is likely to be helpful - in fact it seems likely that we won't need to fine-tune the convolutional layer weights much, if at all. So we can pre-compute the output of the last convolutional layer, as we did in lesson 3 when we experimented with dropout. (However this means that we can't use full data augmentation, since we can't pre-compute something that changes every image.)"
   ]
  },
  {
   "cell_type": "code",
   "execution_count": 6,
   "metadata": {
    "collapsed": true
   },
   "outputs": [],
   "source": [
    "vgg = Vgg16()\n",
    "model=vgg.model\n",
    "last_conv_idx = [i for i,l in enumerate(model.layers) if type(l) is Convolution2D][-1]\n",
    "conv_layers = model.layers[:last_conv_idx+1]"
   ]
  },
  {
   "cell_type": "code",
   "execution_count": 7,
   "metadata": {
    "collapsed": true
   },
   "outputs": [],
   "source": [
    "conv_model = Sequential(conv_layers)"
   ]
  },
  {
   "cell_type": "code",
   "execution_count": 9,
   "metadata": {
    "collapsed": true
   },
   "outputs": [
    {
     "name": "stdout",
     "output_type": "stream",
     "text": [
      "____________________________________________________________________________________________________\n",
      "Layer (type)                     Output Shape          Param #     Connected to                     \n",
      "====================================================================================================\n",
      "lambda_1 (Lambda)                (None, 3, 224, 224)   0           lambda_input_1[0][0]             \n",
      "____________________________________________________________________________________________________\n",
      "zeropadding2d_1 (ZeroPadding2D)  (None, 3, 226, 226)   0           lambda_1[0][0]                   \n",
      "                                                                   lambda_1[0][0]                   \n",
      "____________________________________________________________________________________________________\n",
      "convolution2d_1 (Convolution2D)  (None, 64, 224, 224)  1792        zeropadding2d_1[0][0]            \n",
      "                                                                   zeropadding2d_1[1][0]            \n",
      "____________________________________________________________________________________________________\n",
      "zeropadding2d_2 (ZeroPadding2D)  (None, 64, 226, 226)  0           convolution2d_1[0][0]            \n",
      "                                                                   convolution2d_1[1][0]            \n",
      "____________________________________________________________________________________________________\n",
      "convolution2d_2 (Convolution2D)  (None, 64, 224, 224)  36928       zeropadding2d_2[0][0]            \n",
      "                                                                   zeropadding2d_2[1][0]            \n",
      "____________________________________________________________________________________________________\n",
      "maxpooling2d_1 (MaxPooling2D)    (None, 64, 112, 112)  0           convolution2d_2[0][0]            \n",
      "                                                                   convolution2d_2[1][0]            \n",
      "____________________________________________________________________________________________________\n",
      "zeropadding2d_3 (ZeroPadding2D)  (None, 64, 114, 114)  0           maxpooling2d_1[0][0]             \n",
      "                                                                   maxpooling2d_1[1][0]             \n",
      "____________________________________________________________________________________________________\n",
      "convolution2d_3 (Convolution2D)  (None, 128, 112, 112) 73856       zeropadding2d_3[0][0]            \n",
      "                                                                   zeropadding2d_3[1][0]            \n",
      "____________________________________________________________________________________________________\n",
      "zeropadding2d_4 (ZeroPadding2D)  (None, 128, 114, 114) 0           convolution2d_3[0][0]            \n",
      "                                                                   convolution2d_3[1][0]            \n",
      "____________________________________________________________________________________________________\n",
      "convolution2d_4 (Convolution2D)  (None, 128, 112, 112) 147584      zeropadding2d_4[0][0]            \n",
      "                                                                   zeropadding2d_4[1][0]            \n",
      "____________________________________________________________________________________________________\n",
      "maxpooling2d_2 (MaxPooling2D)    (None, 128, 56, 56)   0           convolution2d_4[0][0]            \n",
      "                                                                   convolution2d_4[1][0]            \n",
      "____________________________________________________________________________________________________\n",
      "zeropadding2d_5 (ZeroPadding2D)  (None, 128, 58, 58)   0           maxpooling2d_2[0][0]             \n",
      "                                                                   maxpooling2d_2[1][0]             \n",
      "____________________________________________________________________________________________________\n",
      "convolution2d_5 (Convolution2D)  (None, 256, 56, 56)   295168      zeropadding2d_5[0][0]            \n",
      "                                                                   zeropadding2d_5[1][0]            \n",
      "____________________________________________________________________________________________________\n",
      "zeropadding2d_6 (ZeroPadding2D)  (None, 256, 58, 58)   0           convolution2d_5[0][0]            \n",
      "                                                                   convolution2d_5[1][0]            \n",
      "____________________________________________________________________________________________________\n",
      "convolution2d_6 (Convolution2D)  (None, 256, 56, 56)   590080      zeropadding2d_6[0][0]            \n",
      "                                                                   zeropadding2d_6[1][0]            \n",
      "____________________________________________________________________________________________________\n",
      "zeropadding2d_7 (ZeroPadding2D)  (None, 256, 58, 58)   0           convolution2d_6[0][0]            \n",
      "                                                                   convolution2d_6[1][0]            \n",
      "____________________________________________________________________________________________________\n",
      "convolution2d_7 (Convolution2D)  (None, 256, 56, 56)   590080      zeropadding2d_7[0][0]            \n",
      "                                                                   zeropadding2d_7[1][0]            \n",
      "____________________________________________________________________________________________________\n",
      "maxpooling2d_3 (MaxPooling2D)    (None, 256, 28, 28)   0           convolution2d_7[0][0]            \n",
      "                                                                   convolution2d_7[1][0]            \n",
      "____________________________________________________________________________________________________\n",
      "zeropadding2d_8 (ZeroPadding2D)  (None, 256, 30, 30)   0           maxpooling2d_3[0][0]             \n",
      "                                                                   maxpooling2d_3[1][0]             \n",
      "____________________________________________________________________________________________________\n",
      "convolution2d_8 (Convolution2D)  (None, 512, 28, 28)   1180160     zeropadding2d_8[0][0]            \n",
      "                                                                   zeropadding2d_8[1][0]            \n",
      "____________________________________________________________________________________________________\n",
      "zeropadding2d_9 (ZeroPadding2D)  (None, 512, 30, 30)   0           convolution2d_8[0][0]            \n",
      "                                                                   convolution2d_8[1][0]            \n",
      "____________________________________________________________________________________________________\n",
      "convolution2d_9 (Convolution2D)  (None, 512, 28, 28)   2359808     zeropadding2d_9[0][0]            \n",
      "                                                                   zeropadding2d_9[1][0]            \n",
      "____________________________________________________________________________________________________\n",
      "zeropadding2d_10 (ZeroPadding2D) (None, 512, 30, 30)   0           convolution2d_9[0][0]            \n",
      "                                                                   convolution2d_9[1][0]            \n",
      "____________________________________________________________________________________________________\n",
      "convolution2d_10 (Convolution2D) (None, 512, 28, 28)   2359808     zeropadding2d_10[0][0]           \n",
      "                                                                   zeropadding2d_10[1][0]           \n",
      "____________________________________________________________________________________________________\n",
      "maxpooling2d_4 (MaxPooling2D)    (None, 512, 14, 14)   0           convolution2d_10[0][0]           \n",
      "                                                                   convolution2d_10[1][0]           \n",
      "____________________________________________________________________________________________________\n",
      "zeropadding2d_11 (ZeroPadding2D) (None, 512, 16, 16)   0           maxpooling2d_4[0][0]             \n",
      "                                                                   maxpooling2d_4[1][0]             \n",
      "____________________________________________________________________________________________________\n",
      "convolution2d_11 (Convolution2D) (None, 512, 14, 14)   2359808     zeropadding2d_11[0][0]           \n",
      "                                                                   zeropadding2d_11[1][0]           \n",
      "____________________________________________________________________________________________________\n",
      "zeropadding2d_12 (ZeroPadding2D) (None, 512, 16, 16)   0           convolution2d_11[0][0]           \n",
      "                                                                   convolution2d_11[1][0]           \n",
      "____________________________________________________________________________________________________\n",
      "convolution2d_12 (Convolution2D) (None, 512, 14, 14)   2359808     zeropadding2d_12[0][0]           \n",
      "                                                                   zeropadding2d_12[1][0]           \n",
      "____________________________________________________________________________________________________\n",
      "zeropadding2d_13 (ZeroPadding2D) (None, 512, 16, 16)   0           convolution2d_12[0][0]           \n",
      "                                                                   convolution2d_12[1][0]           \n",
      "____________________________________________________________________________________________________\n",
      "convolution2d_13 (Convolution2D) (None, 512, 14, 14)   2359808     zeropadding2d_13[0][0]           \n",
      "                                                                   zeropadding2d_13[1][0]           \n",
      "====================================================================================================\n",
      "Total params: 14,714,688\n",
      "Trainable params: 14,714,688\n",
      "Non-trainable params: 0\n",
      "____________________________________________________________________________________________________\n"
     ]
    }
   ],
   "source": [
    "conv_model.summary()"
   ]
  },
  {
   "cell_type": "code",
   "execution_count": 9,
   "metadata": {
    "collapsed": false
   },
   "outputs": [
    {
     "name": "stdout",
     "output_type": "stream",
     "text": [
      "Found 2688 images belonging to 4 classes.\n",
      "Found 672 images belonging to 4 classes.\n",
      "Found 57 images belonging to 1 classes.\n"
     ]
    }
   ],
   "source": [
    "#так как мы больше не можем работать с Data augmentation мы должны перезабрать наши масивы заново\n",
    "(val_classes, trn_classes, val_labels, trn_labels, \n",
    "    val_filenames, filenames, test_filenames) = get_classes(path)"
   ]
  },
  {
   "cell_type": "code",
   "execution_count": 10,
   "metadata": {
    "collapsed": true
   },
   "outputs": [],
   "source": [
    "# формируем наши фичи на основе предрасчитаного vgg imagenet\n",
    "conv_feat = conv_model.predict_generator(batches, batches.nb_sample)\n",
    "conv_val_feat = conv_model.predict_generator(val_batches, val_batches.nb_sample)\n",
    "conv_test_feat = conv_model.predict_generator(test_batches, test_batches.nb_sample)"
   ]
  },
  {
   "cell_type": "code",
   "execution_count": 15,
   "metadata": {
    "collapsed": false
   },
   "outputs": [
    {
     "data": {
      "text/plain": [
       "(170L, 512L, 14L, 14L)"
      ]
     },
     "execution_count": 15,
     "metadata": {},
     "output_type": "execute_result"
    }
   ],
   "source": [
    "#проверим что это выход нашей сети предрасчитанной. Кол во фичей должно быть аналогично к выходу \n",
    "#последнего conv layer  у нас на summary() это convolution2d_41 (Convolution2D)=512L, 14L, 14L\n",
    "conv_val_feat.shape"
   ]
  },
  {
   "cell_type": "markdown",
   "metadata": {},
   "source": [
    "# Batchnorm dense layers on pretrained conv layers"
   ]
  },
  {
   "cell_type": "markdown",
   "metadata": {},
   "source": [
    "Since we've pre-computed the output of the last convolutional layer, we need to create a network that takes that as input, and predicts our 4 classes. Let's try using a simplified version of VGG's dense layers."
   ]
  },
  {
   "cell_type": "markdown",
   "metadata": {},
   "source": [
    "Looking good! Let's try pre-computing 5 epochs worth of augmented data, so we can experiment with combining dropout and augmentation on the pre-trained model"
   ]
  },
  {
   "cell_type": "markdown",
   "metadata": {},
   "source": [
    "Since we've now got a dataset 6x bigger than before, we'll need to copy our labels 6 times too."
   ]
  },
  {
   "cell_type": "markdown",
   "metadata": {},
   "source": [
    "Based on some experiments the previous model works well, with bigger dense layers."
   ]
  },
  {
   "cell_type": "code",
   "execution_count": 8,
   "metadata": {
    "collapsed": true
   },
   "outputs": [],
   "source": [
    "def get_bn_da_layers(p):\n",
    "    return [\n",
    "        MaxPooling2D(input_shape=conv_layers[-1].output_shape[1:]),\n",
    "        Flatten(),\n",
    "        Dropout(p),\n",
    "        Dense(256, activation='relu'),\n",
    "        BatchNormalization(),\n",
    "        Dropout(p),\n",
    "        Dense(256, activation='relu'),\n",
    "        BatchNormalization(),\n",
    "        Dropout(p),\n",
    "        Dense(4, activation='softmax')\n",
    "        ]"
   ]
  },
  {
   "cell_type": "code",
   "execution_count": 9,
   "metadata": {
    "collapsed": true
   },
   "outputs": [],
   "source": [
    "p=0.8"
   ]
  },
  {
   "cell_type": "code",
   "execution_count": 10,
   "metadata": {
    "collapsed": true
   },
   "outputs": [],
   "source": [
    "bn_model = Sequential(get_bn_da_layers(p))\n",
    "bn_model.compile(Adam(lr=10e-5), loss='categorical_crossentropy', metrics=['accuracy'])"
   ]
  },
  {
   "cell_type": "code",
   "execution_count": 22,
   "metadata": {
    "collapsed": false
   },
   "outputs": [
    {
     "name": "stdout",
     "output_type": "stream",
     "text": [
      "Train on 40320 samples, validate on 672 samples\n",
      "Epoch 1/4\n",
      "40320/40320 [==============================] - 26s - loss: 0.8001 - acc: 0.7049 - val_loss: 0.4479 - val_acc: 0.8438\n",
      "Epoch 2/4\n",
      "40320/40320 [==============================] - 27s - loss: 0.6890 - acc: 0.7440 - val_loss: 0.4209 - val_acc: 0.8482\n",
      "Epoch 3/4\n",
      "40320/40320 [==============================] - 27s - loss: 0.6193 - acc: 0.7727 - val_loss: 0.3934 - val_acc: 0.8586\n",
      "Epoch 4/4\n",
      "40320/40320 [==============================] - 27s - loss: 0.5514 - acc: 0.7963 - val_loss: 0.3663 - val_acc: 0.8676\n"
     ]
    },
    {
     "data": {
      "text/plain": [
       "<keras.callbacks.History at 0x670c7128>"
      ]
     },
     "execution_count": 22,
     "metadata": {},
     "output_type": "execute_result"
    }
   ],
   "source": [
    "bn_model.fit(conv_feat, trn_labels, batch_size=batch_size, nb_epoch=4, \n",
    "             validation_data=(conv_val_feat, val_labels))"
   ]
  },
  {
   "cell_type": "code",
   "execution_count": 23,
   "metadata": {
    "collapsed": true
   },
   "outputs": [],
   "source": [
    "bn_model.optimizer.lr=0.001"
   ]
  },
  {
   "cell_type": "code",
   "execution_count": 27,
   "metadata": {
    "collapsed": false
   },
   "outputs": [
    {
     "name": "stdout",
     "output_type": "stream",
     "text": [
      "Train on 40320 samples, validate on 672 samples\n",
      "Epoch 1/4\n",
      "40320/40320 [==============================] - 26s - loss: 0.3125 - acc: 0.8878 - val_loss: 0.2967 - val_acc: 0.9062\n",
      "Epoch 2/4\n",
      "40320/40320 [==============================] - 27s - loss: 0.3090 - acc: 0.8890 - val_loss: 0.2996 - val_acc: 0.9033\n",
      "Epoch 3/4\n",
      "40320/40320 [==============================] - 26s - loss: 0.2925 - acc: 0.8958 - val_loss: 0.2975 - val_acc: 0.9018\n",
      "Epoch 4/4\n",
      "40320/40320 [==============================] - 26s - loss: 0.2923 - acc: 0.8978 - val_loss: 0.3008 - val_acc: 0.9033\n"
     ]
    },
    {
     "data": {
      "text/plain": [
       "<keras.callbacks.History at 0x7395dd30>"
      ]
     },
     "execution_count": 27,
     "metadata": {},
     "output_type": "execute_result"
    }
   ],
   "source": [
    "bn_model.fit(conv_feat, trn_labels, batch_size=batch_size, nb_epoch=4, \n",
    "             validation_data=(conv_val_feat, val_labels))\n",
    "# Результат должен быть acc:0.86 на val_ac:0.79"
   ]
  },
  {
   "cell_type": "code",
   "execution_count": 29,
   "metadata": {
    "collapsed": true
   },
   "outputs": [],
   "source": [
    "bn_model.optimizer.lr=0.00001"
   ]
  },
  {
   "cell_type": "code",
   "execution_count": 30,
   "metadata": {
    "collapsed": false
   },
   "outputs": [
    {
     "name": "stdout",
     "output_type": "stream",
     "text": [
      "Train on 40320 samples, validate on 672 samples\n",
      "Epoch 1/256\n",
      "40320/40320 [==============================] - 26s - loss: 0.2895 - acc: 0.8982 - val_loss: 0.2963 - val_acc: 0.9033\n",
      "Epoch 2/256\n",
      "40320/40320 [==============================] - 25s - loss: 0.2816 - acc: 0.9005 - val_loss: 0.2937 - val_acc: 0.9033\n",
      "Epoch 3/256\n",
      "40320/40320 [==============================] - 26s - loss: 0.2762 - acc: 0.9028 - val_loss: 0.2973 - val_acc: 0.9003\n",
      "Epoch 4/256\n",
      "40320/40320 [==============================] - 25s - loss: 0.2718 - acc: 0.9048 - val_loss: 0.2895 - val_acc: 0.9048\n",
      "Epoch 5/256\n",
      "40320/40320 [==============================] - 26s - loss: 0.2628 - acc: 0.9069 - val_loss: 0.2906 - val_acc: 0.9092\n",
      "Epoch 6/256\n",
      "40320/40320 [==============================] - 27s - loss: 0.2650 - acc: 0.9070 - val_loss: 0.2983 - val_acc: 0.9033\n",
      "Epoch 7/256\n",
      "40320/40320 [==============================] - 25s - loss: 0.2679 - acc: 0.9052 - val_loss: 0.2976 - val_acc: 0.9033\n",
      "Epoch 8/256\n",
      "40320/40320 [==============================] - 25s - loss: 0.2585 - acc: 0.9097 - val_loss: 0.3019 - val_acc: 0.9048\n",
      "Epoch 9/256\n",
      "40320/40320 [==============================] - 25s - loss: 0.2583 - acc: 0.9099 - val_loss: 0.3002 - val_acc: 0.9062\n",
      "Epoch 10/256\n",
      "40320/40320 [==============================] - 27s - loss: 0.2501 - acc: 0.9118 - val_loss: 0.3066 - val_acc: 0.9033\n",
      "Epoch 11/256\n",
      "40320/40320 [==============================] - 25s - loss: 0.2473 - acc: 0.9138 - val_loss: 0.2976 - val_acc: 0.9062\n",
      "Epoch 12/256\n",
      "40320/40320 [==============================] - 27s - loss: 0.2507 - acc: 0.9126 - val_loss: 0.2944 - val_acc: 0.9062\n",
      "Epoch 13/256\n",
      "40320/40320 [==============================] - 28s - loss: 0.2405 - acc: 0.9159 - val_loss: 0.2926 - val_acc: 0.9062\n",
      "Epoch 14/256\n",
      "40320/40320 [==============================] - 29s - loss: 0.2358 - acc: 0.9166 - val_loss: 0.2958 - val_acc: 0.9062\n",
      "Epoch 15/256\n",
      "40320/40320 [==============================] - 28s - loss: 0.2308 - acc: 0.9190 - val_loss: 0.2912 - val_acc: 0.9107\n",
      "Epoch 16/256\n",
      "40320/40320 [==============================] - 22s - loss: 0.2357 - acc: 0.9172 - val_loss: 0.2888 - val_acc: 0.9137\n",
      "Epoch 17/256\n",
      "40320/40320 [==============================] - 26s - loss: 0.2344 - acc: 0.9198 - val_loss: 0.2913 - val_acc: 0.9122\n",
      "Epoch 18/256\n",
      "40320/40320 [==============================] - 24s - loss: 0.2259 - acc: 0.9206 - val_loss: 0.2909 - val_acc: 0.9033\n",
      "Epoch 19/256\n",
      "40320/40320 [==============================] - 25s - loss: 0.2256 - acc: 0.9214 - val_loss: 0.2916 - val_acc: 0.9033\n",
      "Epoch 20/256\n",
      "40320/40320 [==============================] - 27s - loss: 0.2248 - acc: 0.9210 - val_loss: 0.2869 - val_acc: 0.9092\n",
      "Epoch 21/256\n",
      "40320/40320 [==============================] - 25s - loss: 0.2241 - acc: 0.9207 - val_loss: 0.2887 - val_acc: 0.9018\n",
      "Epoch 22/256\n",
      "40320/40320 [==============================] - 25s - loss: 0.2186 - acc: 0.9235 - val_loss: 0.2930 - val_acc: 0.9107\n",
      "Epoch 23/256\n",
      "40320/40320 [==============================] - 26s - loss: 0.2206 - acc: 0.9232 - val_loss: 0.2975 - val_acc: 0.9048\n",
      "Epoch 24/256\n",
      "40320/40320 [==============================] - 25s - loss: 0.2115 - acc: 0.9263 - val_loss: 0.2943 - val_acc: 0.9062\n",
      "Epoch 25/256\n",
      "40320/40320 [==============================] - 24s - loss: 0.2164 - acc: 0.9243 - val_loss: 0.2924 - val_acc: 0.9077\n",
      "Epoch 26/256\n",
      "40320/40320 [==============================] - 26s - loss: 0.2094 - acc: 0.9268 - val_loss: 0.2939 - val_acc: 0.9077\n",
      "Epoch 27/256\n",
      "40320/40320 [==============================] - 28s - loss: 0.2129 - acc: 0.9275 - val_loss: 0.3010 - val_acc: 0.9062\n",
      "Epoch 28/256\n",
      "40320/40320 [==============================] - 27s - loss: 0.2075 - acc: 0.9289 - val_loss: 0.2957 - val_acc: 0.9062\n",
      "Epoch 29/256\n",
      "40320/40320 [==============================] - 27s - loss: 0.2059 - acc: 0.9284 - val_loss: 0.2983 - val_acc: 0.9122\n",
      "Epoch 30/256\n",
      "40320/40320 [==============================] - 27s - loss: 0.2037 - acc: 0.9281 - val_loss: 0.2979 - val_acc: 0.9092\n",
      "Epoch 31/256\n",
      "40320/40320 [==============================] - 24s - loss: 0.1985 - acc: 0.9317 - val_loss: 0.2970 - val_acc: 0.8988\n",
      "Epoch 32/256\n",
      "40320/40320 [==============================] - 26s - loss: 0.1990 - acc: 0.9320 - val_loss: 0.3020 - val_acc: 0.9033\n",
      "Epoch 33/256\n",
      "40320/40320 [==============================] - 27s - loss: 0.2032 - acc: 0.9300 - val_loss: 0.2900 - val_acc: 0.9062\n",
      "Epoch 34/256\n",
      "40320/40320 [==============================] - 26s - loss: 0.2028 - acc: 0.9302 - val_loss: 0.2899 - val_acc: 0.9077\n",
      "Epoch 35/256\n",
      "40320/40320 [==============================] - 27s - loss: 0.1956 - acc: 0.9330 - val_loss: 0.2895 - val_acc: 0.9092\n",
      "Epoch 36/256\n",
      "40320/40320 [==============================] - 26s - loss: 0.1918 - acc: 0.9331 - val_loss: 0.2863 - val_acc: 0.9077\n",
      "Epoch 37/256\n",
      "40320/40320 [==============================] - 26s - loss: 0.1946 - acc: 0.9323 - val_loss: 0.2909 - val_acc: 0.9077\n",
      "Epoch 38/256\n",
      "40320/40320 [==============================] - 28s - loss: 0.1903 - acc: 0.9340 - val_loss: 0.2865 - val_acc: 0.9092\n",
      "Epoch 39/256\n",
      "40320/40320 [==============================] - 28s - loss: 0.1879 - acc: 0.9355 - val_loss: 0.2933 - val_acc: 0.9077\n",
      "Epoch 40/256\n",
      "40320/40320 [==============================] - 27s - loss: 0.1974 - acc: 0.9319 - val_loss: 0.2895 - val_acc: 0.9062\n",
      "Epoch 41/256\n",
      "40320/40320 [==============================] - 27s - loss: 0.1853 - acc: 0.9345 - val_loss: 0.2949 - val_acc: 0.9033\n",
      "Epoch 42/256\n",
      "40320/40320 [==============================] - 25s - loss: 0.1868 - acc: 0.9352 - val_loss: 0.2832 - val_acc: 0.9092\n",
      "Epoch 43/256\n",
      "40320/40320 [==============================] - 25s - loss: 0.1864 - acc: 0.9348 - val_loss: 0.2922 - val_acc: 0.9062\n",
      "Epoch 44/256\n",
      "40320/40320 [==============================] - 26s - loss: 0.1821 - acc: 0.9365 - val_loss: 0.2861 - val_acc: 0.9018\n",
      "Epoch 45/256\n",
      "40320/40320 [==============================] - 25s - loss: 0.1871 - acc: 0.9354 - val_loss: 0.2801 - val_acc: 0.9122\n",
      "Epoch 46/256\n",
      "40320/40320 [==============================] - 27s - loss: 0.1838 - acc: 0.9366 - val_loss: 0.2816 - val_acc: 0.9107\n",
      "Epoch 47/256\n",
      "40320/40320 [==============================] - 25s - loss: 0.1795 - acc: 0.9384 - val_loss: 0.2881 - val_acc: 0.9137\n",
      "Epoch 48/256\n",
      "40320/40320 [==============================] - 26s - loss: 0.1798 - acc: 0.9377 - val_loss: 0.2890 - val_acc: 0.9077\n",
      "Epoch 49/256\n",
      "40320/40320 [==============================] - 25s - loss: 0.1767 - acc: 0.9380 - val_loss: 0.2820 - val_acc: 0.9137\n",
      "Epoch 50/256\n",
      "40320/40320 [==============================] - 28s - loss: 0.1769 - acc: 0.9378 - val_loss: 0.2915 - val_acc: 0.9077\n",
      "Epoch 51/256\n",
      "40320/40320 [==============================] - 25s - loss: 0.1758 - acc: 0.9403 - val_loss: 0.2805 - val_acc: 0.9077\n",
      "Epoch 52/256\n",
      "40320/40320 [==============================] - 25s - loss: 0.1773 - acc: 0.9394 - val_loss: 0.2816 - val_acc: 0.9107\n",
      "Epoch 53/256\n",
      "40320/40320 [==============================] - 26s - loss: 0.1759 - acc: 0.9384 - val_loss: 0.2903 - val_acc: 0.9048\n",
      "Epoch 54/256\n",
      "40320/40320 [==============================] - 27s - loss: 0.1718 - acc: 0.9393 - val_loss: 0.2853 - val_acc: 0.9122\n",
      "Epoch 55/256\n",
      "40320/40320 [==============================] - 26s - loss: 0.1710 - acc: 0.9416 - val_loss: 0.2841 - val_acc: 0.9062\n",
      "Epoch 56/256\n",
      "40320/40320 [==============================] - 24s - loss: 0.1722 - acc: 0.9411 - val_loss: 0.2893 - val_acc: 0.9048\n",
      "Epoch 57/256\n",
      "40320/40320 [==============================] - 27s - loss: 0.1701 - acc: 0.9414 - val_loss: 0.2922 - val_acc: 0.9137\n",
      "Epoch 58/256\n",
      "40320/40320 [==============================] - 26s - loss: 0.1658 - acc: 0.9423 - val_loss: 0.2824 - val_acc: 0.9152\n",
      "Epoch 59/256\n",
      "40320/40320 [==============================] - 26s - loss: 0.1689 - acc: 0.9421 - val_loss: 0.2783 - val_acc: 0.9137\n",
      "Epoch 60/256\n",
      "40320/40320 [==============================] - 26s - loss: 0.1650 - acc: 0.9429 - val_loss: 0.2929 - val_acc: 0.9107\n",
      "Epoch 61/256\n",
      "40320/40320 [==============================] - 26s - loss: 0.1676 - acc: 0.9426 - val_loss: 0.2861 - val_acc: 0.9137\n",
      "Epoch 62/256\n",
      "40320/40320 [==============================] - 26s - loss: 0.1615 - acc: 0.9452 - val_loss: 0.2815 - val_acc: 0.9137\n",
      "Epoch 63/256\n",
      "40320/40320 [==============================] - 23s - loss: 0.1683 - acc: 0.9428 - val_loss: 0.2838 - val_acc: 0.9137\n",
      "Epoch 64/256\n",
      "40320/40320 [==============================] - 25s - loss: 0.1626 - acc: 0.9450 - val_loss: 0.2835 - val_acc: 0.9092\n",
      "Epoch 65/256\n",
      "40320/40320 [==============================] - 25s - loss: 0.1624 - acc: 0.9436 - val_loss: 0.2933 - val_acc: 0.9092\n",
      "Epoch 66/256\n",
      "40320/40320 [==============================] - 25s - loss: 0.1577 - acc: 0.9450 - val_loss: 0.2929 - val_acc: 0.9062\n",
      "Epoch 67/256\n",
      "40320/40320 [==============================] - 24s - loss: 0.1621 - acc: 0.9448 - val_loss: 0.2879 - val_acc: 0.9077\n",
      "Epoch 68/256\n",
      "40320/40320 [==============================] - 24s - loss: 0.1579 - acc: 0.9456 - val_loss: 0.2880 - val_acc: 0.9077\n",
      "Epoch 69/256\n",
      "40320/40320 [==============================] - 24s - loss: 0.1606 - acc: 0.9444 - val_loss: 0.2888 - val_acc: 0.9077\n",
      "Epoch 70/256\n",
      "40320/40320 [==============================] - 26s - loss: 0.1582 - acc: 0.9459 - val_loss: 0.2827 - val_acc: 0.9152\n",
      "Epoch 71/256\n",
      "40320/40320 [==============================] - 27s - loss: 0.1571 - acc: 0.9459 - val_loss: 0.2944 - val_acc: 0.9062\n",
      "Epoch 72/256\n",
      "40320/40320 [==============================] - 27s - loss: 0.1513 - acc: 0.9482 - val_loss: 0.2911 - val_acc: 0.9077\n",
      "Epoch 73/256\n",
      "40320/40320 [==============================] - 27s - loss: 0.1539 - acc: 0.9472 - val_loss: 0.2864 - val_acc: 0.9107\n",
      "Epoch 74/256\n",
      "40320/40320 [==============================] - 24s - loss: 0.1566 - acc: 0.9473 - val_loss: 0.2914 - val_acc: 0.9122\n",
      "Epoch 75/256\n",
      "40320/40320 [==============================] - 28s - loss: 0.1561 - acc: 0.9465 - val_loss: 0.2806 - val_acc: 0.9137\n",
      "Epoch 76/256\n",
      "40320/40320 [==============================] - 25s - loss: 0.1520 - acc: 0.9486 - val_loss: 0.2900 - val_acc: 0.9107\n",
      "Epoch 77/256\n",
      "40320/40320 [==============================] - 26s - loss: 0.1496 - acc: 0.9494 - val_loss: 0.2867 - val_acc: 0.9092\n",
      "Epoch 78/256\n",
      "40320/40320 [==============================] - 25s - loss: 0.1503 - acc: 0.9491 - val_loss: 0.2863 - val_acc: 0.9107\n",
      "Epoch 79/256\n",
      "40320/40320 [==============================] - 27s - loss: 0.1543 - acc: 0.9479 - val_loss: 0.2805 - val_acc: 0.9137\n",
      "Epoch 80/256\n",
      "40320/40320 [==============================] - 25s - loss: 0.1454 - acc: 0.9495 - val_loss: 0.2905 - val_acc: 0.9092\n",
      "Epoch 81/256\n",
      "40320/40320 [==============================] - 25s - loss: 0.1505 - acc: 0.9494 - val_loss: 0.2842 - val_acc: 0.9092\n",
      "Epoch 82/256\n",
      "40320/40320 [==============================] - 24s - loss: 0.1483 - acc: 0.9506 - val_loss: 0.2898 - val_acc: 0.9077\n",
      "Epoch 83/256\n",
      "40320/40320 [==============================] - 26s - loss: 0.1477 - acc: 0.9502 - val_loss: 0.2794 - val_acc: 0.9122\n",
      "Epoch 84/256\n",
      "40320/40320 [==============================] - 25s - loss: 0.1478 - acc: 0.9500 - val_loss: 0.2792 - val_acc: 0.9122\n",
      "Epoch 85/256\n",
      "40320/40320 [==============================] - 25s - loss: 0.1516 - acc: 0.9494 - val_loss: 0.2886 - val_acc: 0.9048\n",
      "Epoch 86/256\n",
      "40320/40320 [==============================] - 27s - loss: 0.1458 - acc: 0.9501 - val_loss: 0.2958 - val_acc: 0.9048\n",
      "Epoch 87/256\n",
      "40320/40320 [==============================] - 24s - loss: 0.1446 - acc: 0.9508 - val_loss: 0.2873 - val_acc: 0.9137\n",
      "Epoch 88/256\n",
      "40320/40320 [==============================] - 26s - loss: 0.1402 - acc: 0.9528 - val_loss: 0.2859 - val_acc: 0.9107\n",
      "Epoch 89/256\n",
      "40320/40320 [==============================] - 26s - loss: 0.1516 - acc: 0.9484 - val_loss: 0.2838 - val_acc: 0.9152\n",
      "Epoch 90/256\n",
      "40320/40320 [==============================] - 27s - loss: 0.1442 - acc: 0.9506 - val_loss: 0.2853 - val_acc: 0.9152\n",
      "Epoch 91/256\n",
      "40320/40320 [==============================] - 25s - loss: 0.1420 - acc: 0.9517 - val_loss: 0.2866 - val_acc: 0.9167\n",
      "Epoch 92/256\n",
      "40320/40320 [==============================] - 26s - loss: 0.1398 - acc: 0.9529 - val_loss: 0.2905 - val_acc: 0.9122\n",
      "Epoch 93/256\n",
      "40320/40320 [==============================] - 28s - loss: 0.1494 - acc: 0.9498 - val_loss: 0.2791 - val_acc: 0.9152\n",
      "Epoch 94/256\n",
      "40320/40320 [==============================] - 26s - loss: 0.1439 - acc: 0.9501 - val_loss: 0.2836 - val_acc: 0.9122\n",
      "Epoch 95/256\n",
      "40320/40320 [==============================] - 26s - loss: 0.1351 - acc: 0.9542 - val_loss: 0.2871 - val_acc: 0.9122\n",
      "Epoch 96/256\n",
      "40320/40320 [==============================] - 27s - loss: 0.1414 - acc: 0.9528 - val_loss: 0.2886 - val_acc: 0.9107\n",
      "Epoch 97/256\n",
      "40320/40320 [==============================] - 24s - loss: 0.1400 - acc: 0.9527 - val_loss: 0.2903 - val_acc: 0.9092\n",
      "Epoch 98/256\n",
      "40320/40320 [==============================] - 25s - loss: 0.1402 - acc: 0.9522 - val_loss: 0.2844 - val_acc: 0.9137\n",
      "Epoch 99/256\n",
      "40320/40320 [==============================] - 24s - loss: 0.1411 - acc: 0.9528 - val_loss: 0.2867 - val_acc: 0.9152\n",
      "Epoch 100/256\n",
      "40320/40320 [==============================] - 27s - loss: 0.1429 - acc: 0.9516 - val_loss: 0.2937 - val_acc: 0.9092\n",
      "Epoch 101/256\n",
      "40320/40320 [==============================] - 25s - loss: 0.1350 - acc: 0.9538 - val_loss: 0.2917 - val_acc: 0.9137\n",
      "Epoch 102/256\n",
      "40320/40320 [==============================] - 27s - loss: 0.1382 - acc: 0.9534 - val_loss: 0.2888 - val_acc: 0.9122\n",
      "Epoch 103/256\n",
      "40320/40320 [==============================] - 25s - loss: 0.1360 - acc: 0.9539 - val_loss: 0.2844 - val_acc: 0.9211\n",
      "Epoch 104/256\n",
      "40320/40320 [==============================] - 26s - loss: 0.1366 - acc: 0.9529 - val_loss: 0.2876 - val_acc: 0.9152\n",
      "Epoch 105/256\n",
      "40320/40320 [==============================] - 25s - loss: 0.1350 - acc: 0.9533 - val_loss: 0.2905 - val_acc: 0.9196\n",
      "Epoch 106/256\n",
      "40320/40320 [==============================] - 25s - loss: 0.1360 - acc: 0.9537 - val_loss: 0.2939 - val_acc: 0.9152\n",
      "Epoch 107/256\n",
      "40320/40320 [==============================] - 27s - loss: 0.1375 - acc: 0.9541 - val_loss: 0.2946 - val_acc: 0.9167\n",
      "Epoch 108/256\n",
      "40320/40320 [==============================] - 30s - loss: 0.1356 - acc: 0.9540 - val_loss: 0.2953 - val_acc: 0.9092\n",
      "Epoch 109/256\n",
      "40320/40320 [==============================] - 26s - loss: 0.1358 - acc: 0.9544 - val_loss: 0.2972 - val_acc: 0.9092\n",
      "Epoch 110/256\n",
      "40320/40320 [==============================] - 26s - loss: 0.1337 - acc: 0.9545 - val_loss: 0.2965 - val_acc: 0.9092\n",
      "Epoch 111/256\n",
      "40320/40320 [==============================] - 25s - loss: 0.1357 - acc: 0.9554 - val_loss: 0.2914 - val_acc: 0.9122\n",
      "Epoch 112/256\n",
      "40320/40320 [==============================] - 26s - loss: 0.1271 - acc: 0.9556 - val_loss: 0.2976 - val_acc: 0.9137\n",
      "Epoch 113/256\n",
      "40320/40320 [==============================] - 26s - loss: 0.1338 - acc: 0.9546 - val_loss: 0.2965 - val_acc: 0.9152\n",
      "Epoch 114/256\n",
      "40320/40320 [==============================] - 27s - loss: 0.1300 - acc: 0.9559 - val_loss: 0.2938 - val_acc: 0.9107\n",
      "Epoch 115/256\n",
      "40320/40320 [==============================] - 25s - loss: 0.1304 - acc: 0.9555 - val_loss: 0.3019 - val_acc: 0.9062\n",
      "Epoch 116/256\n",
      "40320/40320 [==============================] - 25s - loss: 0.1337 - acc: 0.9554 - val_loss: 0.3069 - val_acc: 0.9033\n",
      "Epoch 117/256\n",
      "40320/40320 [==============================] - 24s - loss: 0.1277 - acc: 0.9565 - val_loss: 0.2978 - val_acc: 0.9122\n",
      "Epoch 118/256\n",
      "40320/40320 [==============================] - 25s - loss: 0.1347 - acc: 0.9546 - val_loss: 0.2988 - val_acc: 0.9092\n",
      "Epoch 119/256\n",
      "40320/40320 [==============================] - 27s - loss: 0.1338 - acc: 0.9545 - val_loss: 0.2961 - val_acc: 0.9122\n",
      "Epoch 120/256\n",
      "40320/40320 [==============================] - 24s - loss: 0.1298 - acc: 0.9554 - val_loss: 0.2982 - val_acc: 0.9122\n",
      "Epoch 121/256\n",
      "40320/40320 [==============================] - 28s - loss: 0.1285 - acc: 0.9563 - val_loss: 0.3041 - val_acc: 0.9122\n",
      "Epoch 122/256\n",
      "40320/40320 [==============================] - 27s - loss: 0.1246 - acc: 0.9574 - val_loss: 0.2999 - val_acc: 0.9107\n",
      "Epoch 123/256\n",
      "40320/40320 [==============================] - 28s - loss: 0.1291 - acc: 0.9564 - val_loss: 0.2984 - val_acc: 0.9107\n",
      "Epoch 124/256\n",
      "40320/40320 [==============================] - 27s - loss: 0.1297 - acc: 0.9562 - val_loss: 0.3000 - val_acc: 0.9122\n",
      "Epoch 125/256\n",
      "40320/40320 [==============================] - 25s - loss: 0.1274 - acc: 0.9584 - val_loss: 0.2976 - val_acc: 0.9152\n",
      "Epoch 126/256\n",
      "40320/40320 [==============================] - 26s - loss: 0.1250 - acc: 0.9575 - val_loss: 0.3060 - val_acc: 0.9107\n",
      "Epoch 127/256\n",
      "40320/40320 [==============================] - 27s - loss: 0.1261 - acc: 0.9567 - val_loss: 0.3042 - val_acc: 0.9152\n",
      "Epoch 128/256\n",
      "40320/40320 [==============================] - 26s - loss: 0.1293 - acc: 0.9558 - val_loss: 0.3003 - val_acc: 0.9182\n",
      "Epoch 129/256\n",
      "40320/40320 [==============================] - 27s - loss: 0.1292 - acc: 0.9568 - val_loss: 0.2987 - val_acc: 0.9152\n",
      "Epoch 130/256\n",
      "40320/40320 [==============================] - 25s - loss: 0.1247 - acc: 0.9587 - val_loss: 0.3051 - val_acc: 0.9092\n",
      "Epoch 131/256\n",
      "40320/40320 [==============================] - 25s - loss: 0.1272 - acc: 0.9564 - val_loss: 0.2962 - val_acc: 0.9137\n",
      "Epoch 132/256\n",
      "40320/40320 [==============================] - 25s - loss: 0.1278 - acc: 0.9572 - val_loss: 0.2995 - val_acc: 0.9152\n",
      "Epoch 133/256\n",
      "40320/40320 [==============================] - 26s - loss: 0.1246 - acc: 0.9577 - val_loss: 0.3025 - val_acc: 0.9137\n",
      "Epoch 134/256\n",
      "40320/40320 [==============================] - 27s - loss: 0.1185 - acc: 0.9595 - val_loss: 0.3016 - val_acc: 0.9137\n",
      "Epoch 135/256\n",
      "40320/40320 [==============================] - 28s - loss: 0.1270 - acc: 0.9568 - val_loss: 0.3035 - val_acc: 0.9152\n",
      "Epoch 136/256\n",
      "40320/40320 [==============================] - 26s - loss: 0.1216 - acc: 0.9584 - val_loss: 0.3021 - val_acc: 0.9152\n",
      "Epoch 137/256\n",
      "40320/40320 [==============================] - 25s - loss: 0.1226 - acc: 0.9586 - val_loss: 0.3038 - val_acc: 0.9122\n",
      "Epoch 138/256\n",
      "40320/40320 [==============================] - 27s - loss: 0.1251 - acc: 0.9586 - val_loss: 0.2954 - val_acc: 0.9167\n",
      "Epoch 139/256\n",
      "40320/40320 [==============================] - 26s - loss: 0.1240 - acc: 0.9586 - val_loss: 0.2992 - val_acc: 0.9152\n",
      "Epoch 140/256\n",
      "40320/40320 [==============================] - 27s - loss: 0.1211 - acc: 0.9594 - val_loss: 0.2947 - val_acc: 0.9167\n",
      "Epoch 141/256\n",
      "40320/40320 [==============================] - 26s - loss: 0.1246 - acc: 0.9585 - val_loss: 0.3005 - val_acc: 0.9122\n",
      "Epoch 142/256\n",
      "40320/40320 [==============================] - 26s - loss: 0.1226 - acc: 0.9583 - val_loss: 0.3032 - val_acc: 0.9092\n",
      "Epoch 143/256\n",
      "40320/40320 [==============================] - 24s - loss: 0.1183 - acc: 0.9596 - val_loss: 0.3060 - val_acc: 0.9077\n",
      "Epoch 144/256\n",
      "40320/40320 [==============================] - 26s - loss: 0.1216 - acc: 0.9595 - val_loss: 0.2999 - val_acc: 0.9122\n",
      "Epoch 145/256\n",
      "40320/40320 [==============================] - 26s - loss: 0.1229 - acc: 0.9586 - val_loss: 0.3068 - val_acc: 0.9092\n",
      "Epoch 146/256\n",
      "40320/40320 [==============================] - 26s - loss: 0.1208 - acc: 0.9591 - val_loss: 0.3041 - val_acc: 0.9062\n",
      "Epoch 147/256\n",
      "40320/40320 [==============================] - 26s - loss: 0.1239 - acc: 0.9582 - val_loss: 0.2980 - val_acc: 0.9152\n",
      "Epoch 148/256\n",
      "40320/40320 [==============================] - 26s - loss: 0.1214 - acc: 0.9591 - val_loss: 0.2970 - val_acc: 0.9092\n",
      "Epoch 149/256\n",
      "40320/40320 [==============================] - 26s - loss: 0.1216 - acc: 0.9585 - val_loss: 0.2976 - val_acc: 0.9107\n",
      "Epoch 150/256\n",
      "40320/40320 [==============================] - 27s - loss: 0.1165 - acc: 0.9615 - val_loss: 0.2904 - val_acc: 0.9122\n",
      "Epoch 151/256\n",
      "40320/40320 [==============================] - 26s - loss: 0.1216 - acc: 0.9585 - val_loss: 0.2906 - val_acc: 0.9122\n",
      "Epoch 152/256\n",
      "40320/40320 [==============================] - 28s - loss: 0.1193 - acc: 0.9604 - val_loss: 0.2869 - val_acc: 0.9167\n",
      "Epoch 153/256\n",
      "40320/40320 [==============================] - 26s - loss: 0.1189 - acc: 0.9599 - val_loss: 0.2846 - val_acc: 0.9137\n",
      "Epoch 154/256\n",
      "40320/40320 [==============================] - 25s - loss: 0.1159 - acc: 0.9615 - val_loss: 0.2894 - val_acc: 0.9182\n",
      "Epoch 155/256\n",
      "40320/40320 [==============================] - 27s - loss: 0.1142 - acc: 0.9609 - val_loss: 0.2914 - val_acc: 0.9137\n",
      "Epoch 156/256\n",
      "40320/40320 [==============================] - 25s - loss: 0.1186 - acc: 0.9597 - val_loss: 0.2877 - val_acc: 0.9122\n",
      "Epoch 157/256\n",
      "40320/40320 [==============================] - 24s - loss: 0.1186 - acc: 0.9602 - val_loss: 0.2916 - val_acc: 0.9122\n",
      "Epoch 158/256\n",
      "40320/40320 [==============================] - 30s - loss: 0.1169 - acc: 0.9602 - val_loss: 0.2993 - val_acc: 0.9107\n",
      "Epoch 159/256\n",
      "40320/40320 [==============================] - 27s - loss: 0.1225 - acc: 0.9589 - val_loss: 0.2878 - val_acc: 0.9152\n",
      "Epoch 160/256\n",
      "40320/40320 [==============================] - 25s - loss: 0.1123 - acc: 0.9629 - val_loss: 0.2950 - val_acc: 0.9122\n",
      "Epoch 161/256\n",
      "40320/40320 [==============================] - 24s - loss: 0.1119 - acc: 0.9624 - val_loss: 0.3026 - val_acc: 0.9077\n",
      "Epoch 162/256\n",
      "40320/40320 [==============================] - 26s - loss: 0.1167 - acc: 0.9611 - val_loss: 0.3039 - val_acc: 0.9107\n",
      "Epoch 163/256\n",
      "40320/40320 [==============================] - 25s - loss: 0.1149 - acc: 0.9616 - val_loss: 0.2938 - val_acc: 0.9152\n",
      "Epoch 164/256\n",
      "40320/40320 [==============================] - 26s - loss: 0.1125 - acc: 0.9625 - val_loss: 0.2893 - val_acc: 0.9182\n",
      "Epoch 165/256\n",
      "40320/40320 [==============================] - 25s - loss: 0.1141 - acc: 0.9618 - val_loss: 0.2962 - val_acc: 0.9137\n",
      "Epoch 166/256\n",
      "40320/40320 [==============================] - 26s - loss: 0.1143 - acc: 0.9618 - val_loss: 0.2948 - val_acc: 0.9152\n",
      "Epoch 167/256\n",
      "40320/40320 [==============================] - 27s - loss: 0.1142 - acc: 0.9618 - val_loss: 0.2953 - val_acc: 0.9137\n",
      "Epoch 168/256\n",
      "40320/40320 [==============================] - 25s - loss: 0.1144 - acc: 0.9616 - val_loss: 0.2918 - val_acc: 0.9152\n",
      "Epoch 169/256\n",
      "40320/40320 [==============================] - 28s - loss: 0.1130 - acc: 0.9621 - val_loss: 0.2878 - val_acc: 0.9167\n",
      "Epoch 170/256\n",
      "40320/40320 [==============================] - 25s - loss: 0.1107 - acc: 0.9620 - val_loss: 0.2932 - val_acc: 0.9137\n",
      "Epoch 171/256\n",
      "40320/40320 [==============================] - 26s - loss: 0.1122 - acc: 0.9622 - val_loss: 0.2962 - val_acc: 0.9137\n",
      "Epoch 172/256\n",
      "40320/40320 [==============================] - 25s - loss: 0.1088 - acc: 0.9627 - val_loss: 0.2934 - val_acc: 0.9137\n",
      "Epoch 173/256\n",
      "40320/40320 [==============================] - 27s - loss: 0.1117 - acc: 0.9623 - val_loss: 0.2977 - val_acc: 0.9152\n",
      "Epoch 174/256\n",
      "40320/40320 [==============================] - 25s - loss: 0.1108 - acc: 0.9625 - val_loss: 0.2920 - val_acc: 0.9182\n",
      "Epoch 175/256\n",
      "40320/40320 [==============================] - 28s - loss: 0.1119 - acc: 0.9612 - val_loss: 0.2929 - val_acc: 0.9152\n",
      "Epoch 176/256\n",
      "40320/40320 [==============================] - 26s - loss: 0.1124 - acc: 0.9618 - val_loss: 0.2898 - val_acc: 0.9182\n",
      "Epoch 177/256\n",
      "40320/40320 [==============================] - 26s - loss: 0.1114 - acc: 0.9631 - val_loss: 0.2894 - val_acc: 0.9152\n",
      "Epoch 178/256\n",
      "40320/40320 [==============================] - 24s - loss: 0.1076 - acc: 0.9634 - val_loss: 0.2936 - val_acc: 0.9196\n",
      "Epoch 179/256\n",
      "40320/40320 [==============================] - 27s - loss: 0.1119 - acc: 0.9630 - val_loss: 0.2961 - val_acc: 0.9182\n",
      "Epoch 180/256\n",
      "40320/40320 [==============================] - 25s - loss: 0.1096 - acc: 0.9636 - val_loss: 0.2885 - val_acc: 0.9167\n",
      "Epoch 181/256\n",
      "40320/40320 [==============================] - 28s - loss: 0.1116 - acc: 0.9630 - val_loss: 0.2870 - val_acc: 0.9152\n",
      "Epoch 182/256\n",
      "40320/40320 [==============================] - 27s - loss: 0.1077 - acc: 0.9634 - val_loss: 0.2858 - val_acc: 0.9167\n",
      "Epoch 183/256\n",
      "40320/40320 [==============================] - 27s - loss: 0.1101 - acc: 0.9634 - val_loss: 0.2962 - val_acc: 0.9152\n",
      "Epoch 184/256\n",
      "40320/40320 [==============================] - 27s - loss: 0.1086 - acc: 0.9630 - val_loss: 0.2986 - val_acc: 0.9122\n",
      "Epoch 185/256\n",
      "40320/40320 [==============================] - 25s - loss: 0.1065 - acc: 0.9645 - val_loss: 0.3013 - val_acc: 0.9137\n",
      "Epoch 186/256\n",
      "40320/40320 [==============================] - 25s - loss: 0.1101 - acc: 0.9637 - val_loss: 0.2930 - val_acc: 0.9122\n",
      "Epoch 187/256\n",
      "40320/40320 [==============================] - 27s - loss: 0.1120 - acc: 0.9618 - val_loss: 0.2847 - val_acc: 0.9196\n",
      "Epoch 188/256\n",
      "40320/40320 [==============================] - 24s - loss: 0.1126 - acc: 0.9633 - val_loss: 0.2840 - val_acc: 0.9167\n",
      "Epoch 189/256\n",
      "40320/40320 [==============================] - 28s - loss: 0.1090 - acc: 0.9638 - val_loss: 0.2888 - val_acc: 0.9167\n",
      "Epoch 190/256\n",
      "40320/40320 [==============================] - 24s - loss: 0.1092 - acc: 0.9638 - val_loss: 0.2945 - val_acc: 0.9122\n",
      "Epoch 191/256\n",
      "40320/40320 [==============================] - 28s - loss: 0.1105 - acc: 0.9628 - val_loss: 0.2895 - val_acc: 0.9152\n",
      "Epoch 192/256\n",
      "40320/40320 [==============================] - 24s - loss: 0.1094 - acc: 0.9636 - val_loss: 0.2943 - val_acc: 0.9152\n",
      "Epoch 193/256\n",
      "40320/40320 [==============================] - 26s - loss: 0.1041 - acc: 0.9640 - val_loss: 0.2990 - val_acc: 0.9152\n",
      "Epoch 194/256\n",
      "40320/40320 [==============================] - 24s - loss: 0.1092 - acc: 0.9633 - val_loss: 0.2940 - val_acc: 0.9167\n",
      "Epoch 195/256\n",
      "40320/40320 [==============================] - 28s - loss: 0.1068 - acc: 0.9648 - val_loss: 0.2900 - val_acc: 0.9167\n",
      "Epoch 196/256\n",
      "40320/40320 [==============================] - 24s - loss: 0.1052 - acc: 0.9647 - val_loss: 0.3005 - val_acc: 0.9152\n",
      "Epoch 197/256\n",
      "40320/40320 [==============================] - 27s - loss: 0.1084 - acc: 0.9648 - val_loss: 0.2956 - val_acc: 0.9226\n",
      "Epoch 198/256\n",
      "40320/40320 [==============================] - 26s - loss: 0.1099 - acc: 0.9642 - val_loss: 0.2942 - val_acc: 0.9167\n",
      "Epoch 199/256\n",
      "40320/40320 [==============================] - 25s - loss: 0.1060 - acc: 0.9648 - val_loss: 0.2981 - val_acc: 0.9167\n",
      "Epoch 200/256\n",
      "40320/40320 [==============================] - 25s - loss: 0.1027 - acc: 0.9655 - val_loss: 0.3025 - val_acc: 0.9167\n",
      "Epoch 201/256\n",
      "40320/40320 [==============================] - 24s - loss: 0.1065 - acc: 0.9641 - val_loss: 0.2955 - val_acc: 0.9182\n",
      "Epoch 202/256\n",
      "40320/40320 [==============================] - 26s - loss: 0.1097 - acc: 0.9633 - val_loss: 0.2935 - val_acc: 0.9196\n",
      "Epoch 203/256\n",
      "40320/40320 [==============================] - 26s - loss: 0.1049 - acc: 0.9649 - val_loss: 0.2942 - val_acc: 0.9167\n",
      "Epoch 204/256\n",
      "40320/40320 [==============================] - 27s - loss: 0.1082 - acc: 0.9643 - val_loss: 0.2897 - val_acc: 0.9167\n",
      "Epoch 205/256\n",
      "40320/40320 [==============================] - 27s - loss: 0.1018 - acc: 0.9664 - val_loss: 0.2918 - val_acc: 0.9226\n",
      "Epoch 206/256\n",
      "40320/40320 [==============================] - 27s - loss: 0.1033 - acc: 0.9656 - val_loss: 0.2952 - val_acc: 0.9167\n",
      "Epoch 207/256\n",
      "40320/40320 [==============================] - 25s - loss: 0.1042 - acc: 0.9660 - val_loss: 0.2965 - val_acc: 0.9182\n",
      "Epoch 208/256\n",
      "40320/40320 [==============================] - 24s - loss: 0.1050 - acc: 0.9647 - val_loss: 0.2892 - val_acc: 0.9211\n",
      "Epoch 209/256\n",
      "40320/40320 [==============================] - 28s - loss: 0.1054 - acc: 0.9640 - val_loss: 0.2908 - val_acc: 0.9196\n",
      "Epoch 210/256\n",
      "40320/40320 [==============================] - 25s - loss: 0.1087 - acc: 0.9632 - val_loss: 0.2813 - val_acc: 0.9241\n",
      "Epoch 211/256\n",
      "40320/40320 [==============================] - 28s - loss: 0.1062 - acc: 0.9644 - val_loss: 0.2876 - val_acc: 0.9226\n",
      "Epoch 212/256\n",
      "40320/40320 [==============================] - 26s - loss: 0.1068 - acc: 0.9630 - val_loss: 0.2843 - val_acc: 0.9256\n",
      "Epoch 213/256\n",
      "40320/40320 [==============================] - 26s - loss: 0.1023 - acc: 0.9668 - val_loss: 0.2900 - val_acc: 0.9226\n",
      "Epoch 214/256\n",
      "40320/40320 [==============================] - 27s - loss: 0.1072 - acc: 0.9648 - val_loss: 0.2877 - val_acc: 0.9226\n",
      "Epoch 215/256\n",
      "40320/40320 [==============================] - 26s - loss: 0.1019 - acc: 0.9660 - val_loss: 0.2869 - val_acc: 0.9226\n",
      "Epoch 216/256\n",
      "40320/40320 [==============================] - 27s - loss: 0.1022 - acc: 0.9654 - val_loss: 0.2951 - val_acc: 0.9226\n",
      "Epoch 217/256\n",
      "40320/40320 [==============================] - 28s - loss: 0.1062 - acc: 0.9642 - val_loss: 0.2932 - val_acc: 0.9226\n",
      "Epoch 218/256\n",
      "40320/40320 [==============================] - 25s - loss: 0.1016 - acc: 0.9660 - val_loss: 0.2931 - val_acc: 0.9211\n",
      "Epoch 219/256\n",
      "40320/40320 [==============================] - 26s - loss: 0.1074 - acc: 0.9646 - val_loss: 0.2920 - val_acc: 0.9226\n",
      "Epoch 220/256\n",
      "40320/40320 [==============================] - 25s - loss: 0.1045 - acc: 0.9654 - val_loss: 0.2960 - val_acc: 0.9182\n",
      "Epoch 221/256\n",
      "40320/40320 [==============================] - 26s - loss: 0.0999 - acc: 0.9659 - val_loss: 0.2963 - val_acc: 0.9211\n",
      "Epoch 222/256\n",
      "40320/40320 [==============================] - 25s - loss: 0.1040 - acc: 0.9650 - val_loss: 0.2893 - val_acc: 0.9196\n",
      "Epoch 223/256\n",
      "40320/40320 [==============================] - 25s - loss: 0.1015 - acc: 0.9661 - val_loss: 0.2916 - val_acc: 0.9167\n",
      "Epoch 224/256\n",
      "40320/40320 [==============================] - 27s - loss: 0.0973 - acc: 0.9674 - val_loss: 0.2881 - val_acc: 0.9226\n",
      "Epoch 225/256\n",
      "40320/40320 [==============================] - 24s - loss: 0.1021 - acc: 0.9667 - val_loss: 0.2944 - val_acc: 0.9182\n",
      "Epoch 226/256\n",
      "40320/40320 [==============================] - 28s - loss: 0.0997 - acc: 0.9673 - val_loss: 0.2934 - val_acc: 0.9211\n",
      "Epoch 227/256\n",
      "40320/40320 [==============================] - 25s - loss: 0.1022 - acc: 0.9666 - val_loss: 0.2931 - val_acc: 0.9196\n",
      "Epoch 228/256\n",
      "40320/40320 [==============================] - 26s - loss: 0.1021 - acc: 0.9670 - val_loss: 0.2934 - val_acc: 0.9182\n",
      "Epoch 229/256\n",
      "40320/40320 [==============================] - 27s - loss: 0.1023 - acc: 0.9661 - val_loss: 0.2907 - val_acc: 0.9196\n",
      "Epoch 230/256\n",
      "40320/40320 [==============================] - 24s - loss: 0.1030 - acc: 0.9657 - val_loss: 0.2847 - val_acc: 0.9211\n",
      "Epoch 231/256\n",
      "40320/40320 [==============================] - 26s - loss: 0.1032 - acc: 0.9655 - val_loss: 0.2904 - val_acc: 0.9196\n",
      "Epoch 232/256\n",
      "40320/40320 [==============================] - 26s - loss: 0.1025 - acc: 0.9647 - val_loss: 0.2861 - val_acc: 0.9226\n",
      "Epoch 233/256\n",
      "40320/40320 [==============================] - 25s - loss: 0.1024 - acc: 0.9660 - val_loss: 0.2875 - val_acc: 0.9211\n",
      "Epoch 234/256\n",
      "40320/40320 [==============================] - 28s - loss: 0.0978 - acc: 0.9672 - val_loss: 0.2901 - val_acc: 0.9241\n",
      "Epoch 235/256\n",
      "40320/40320 [==============================] - 26s - loss: 0.1007 - acc: 0.9660 - val_loss: 0.2947 - val_acc: 0.9211\n",
      "Epoch 236/256\n",
      "40320/40320 [==============================] - 26s - loss: 0.0943 - acc: 0.9682 - val_loss: 0.2881 - val_acc: 0.9226\n",
      "Epoch 237/256\n",
      "40320/40320 [==============================] - 25s - loss: 0.0958 - acc: 0.9678 - val_loss: 0.2873 - val_acc: 0.9241\n",
      "Epoch 238/256\n",
      "40320/40320 [==============================] - 25s - loss: 0.0994 - acc: 0.9657 - val_loss: 0.2937 - val_acc: 0.9241\n",
      "Epoch 239/256\n",
      "40320/40320 [==============================] - 26s - loss: 0.1013 - acc: 0.9654 - val_loss: 0.2923 - val_acc: 0.9226\n",
      "Epoch 240/256\n",
      "40320/40320 [==============================] - 27s - loss: 0.1007 - acc: 0.9667 - val_loss: 0.2893 - val_acc: 0.9196\n",
      "Epoch 241/256\n",
      "40320/40320 [==============================] - 25s - loss: 0.1006 - acc: 0.9657 - val_loss: 0.2872 - val_acc: 0.9241\n",
      "Epoch 242/256\n",
      "40320/40320 [==============================] - 26s - loss: 0.1013 - acc: 0.9664 - val_loss: 0.2964 - val_acc: 0.9182\n",
      "Epoch 243/256\n",
      "40320/40320 [==============================] - 27s - loss: 0.1010 - acc: 0.9669 - val_loss: 0.2884 - val_acc: 0.9256\n",
      "Epoch 244/256\n",
      "40320/40320 [==============================] - 28s - loss: 0.0977 - acc: 0.9668 - val_loss: 0.2918 - val_acc: 0.9241\n",
      "Epoch 245/256\n",
      "40320/40320 [==============================] - 27s - loss: 0.0994 - acc: 0.9672 - val_loss: 0.2845 - val_acc: 0.9241\n",
      "Epoch 246/256\n",
      "40320/40320 [==============================] - 27s - loss: 0.0938 - acc: 0.9686 - val_loss: 0.2878 - val_acc: 0.9256\n",
      "Epoch 247/256\n",
      "40320/40320 [==============================] - 25s - loss: 0.0982 - acc: 0.9685 - val_loss: 0.2855 - val_acc: 0.9256\n",
      "Epoch 248/256\n",
      "40320/40320 [==============================] - 27s - loss: 0.0982 - acc: 0.9666 - val_loss: 0.2920 - val_acc: 0.9196\n",
      "Epoch 249/256\n",
      "40320/40320 [==============================] - 26s - loss: 0.0931 - acc: 0.9691 - val_loss: 0.2904 - val_acc: 0.9211\n",
      "Epoch 250/256\n",
      "40320/40320 [==============================] - 23s - loss: 0.1002 - acc: 0.9668 - val_loss: 0.2911 - val_acc: 0.9196\n",
      "Epoch 251/256\n",
      "40320/40320 [==============================] - 25s - loss: 0.0947 - acc: 0.9692 - val_loss: 0.2884 - val_acc: 0.9211\n",
      "Epoch 252/256\n",
      "40320/40320 [==============================] - 24s - loss: 0.1003 - acc: 0.9674 - val_loss: 0.2938 - val_acc: 0.9196\n",
      "Epoch 253/256\n",
      "40320/40320 [==============================] - 28s - loss: 0.0950 - acc: 0.9674 - val_loss: 0.2886 - val_acc: 0.9211\n",
      "Epoch 254/256\n",
      "40320/40320 [==============================] - 26s - loss: 0.0978 - acc: 0.9684 - val_loss: 0.2872 - val_acc: 0.9211\n",
      "Epoch 255/256\n",
      "40320/40320 [==============================] - 26s - loss: 0.0928 - acc: 0.9688 - val_loss: 0.2888 - val_acc: 0.9226\n",
      "Epoch 256/256\n",
      "40320/40320 [==============================] - 27s - loss: 0.0998 - acc: 0.9669 - val_loss: 0.2912 - val_acc: 0.9211\n"
     ]
    },
    {
     "data": {
      "text/plain": [
       "<keras.callbacks.History at 0x1f0c51588>"
      ]
     },
     "execution_count": 30,
     "metadata": {},
     "output_type": "execute_result"
    }
   ],
   "source": [
    "bn_model.fit(conv_feat, trn_labels, batch_size=batch_size, nb_epoch=256, \n",
    "             validation_data=(conv_val_feat, val_labels))\n",
    "# Результат должен быть acc:0.89 на val_ac:0.81"
   ]
  },
  {
   "cell_type": "markdown",
   "metadata": {},
   "source": [
    "Looks good - let's save those weights."
   ]
  },
  {
   "cell_type": "code",
   "execution_count": 38,
   "metadata": {
    "collapsed": true
   },
   "outputs": [],
   "source": [
    "bn_model.save_weights(path+'results/da_conv8_1_3.h5')"
   ]
  },
  {
   "cell_type": "code",
   "execution_count": 20,
   "metadata": {
    "collapsed": true
   },
   "outputs": [],
   "source": [
    "bn_model.load_weights(path+'results/da_conv8_1_3.h5')"
   ]
  },
  {
   "cell_type": "code",
   "execution_count": 40,
   "metadata": {
    "collapsed": false
   },
   "outputs": [
    {
     "name": "stdout",
     "output_type": "stream",
     "text": [
      "____________________________________________________________________________________________________\n",
      "Layer (type)                     Output Shape          Param #     Connected to                     \n",
      "====================================================================================================\n",
      "maxpooling2d_6 (MaxPooling2D)    (None, 512, 7, 7)     0           maxpooling2d_input_1[0][0]       \n",
      "____________________________________________________________________________________________________\n",
      "flatten_2 (Flatten)              (None, 25088)         0           maxpooling2d_6[0][0]             \n",
      "____________________________________________________________________________________________________\n",
      "dropout_3 (Dropout)              (None, 25088)         0           flatten_2[0][0]                  \n",
      "____________________________________________________________________________________________________\n",
      "dense_4 (Dense)                  (None, 256)           6422784     dropout_3[0][0]                  \n",
      "____________________________________________________________________________________________________\n",
      "batchnormalization_1 (BatchNorma (None, 256)           1024        dense_4[0][0]                    \n",
      "____________________________________________________________________________________________________\n",
      "dropout_4 (Dropout)              (None, 256)           0           batchnormalization_1[0][0]       \n",
      "____________________________________________________________________________________________________\n",
      "dense_5 (Dense)                  (None, 256)           65792       dropout_4[0][0]                  \n",
      "____________________________________________________________________________________________________\n",
      "batchnormalization_2 (BatchNorma (None, 256)           1024        dense_5[0][0]                    \n",
      "____________________________________________________________________________________________________\n",
      "dropout_5 (Dropout)              (None, 256)           0           batchnormalization_2[0][0]       \n",
      "____________________________________________________________________________________________________\n",
      "dense_6 (Dense)                  (None, 4)             1028        dropout_5[0][0]                  \n",
      "====================================================================================================\n",
      "Total params: 6,491,652\n",
      "Trainable params: 6,490,628\n",
      "Non-trainable params: 1,024\n",
      "____________________________________________________________________________________________________\n"
     ]
    }
   ],
   "source": [
    "bn_model.summary()"
   ]
  },
  {
   "cell_type": "markdown",
   "metadata": {},
   "source": [
    "# Submit"
   ]
  },
  {
   "cell_type": "markdown",
   "metadata": {},
   "source": [
    "We'll find a good clipping amount using the validation set, prior to submitting."
   ]
  },
  {
   "cell_type": "code",
   "execution_count": 21,
   "metadata": {
    "collapsed": true
   },
   "outputs": [],
   "source": [
    "def do_clip(arr, mx): return np.clip(arr, (1-mx)/9, mx)"
   ]
  },
  {
   "cell_type": "code",
   "execution_count": 22,
   "metadata": {
    "collapsed": true
   },
   "outputs": [
    {
     "ename": "NameError",
     "evalue": "name 'val_labels' is not defined",
     "output_type": "error",
     "traceback": [
      "\u001b[1;31m---------------------------------------------------------------------------\u001b[0m",
      "\u001b[1;31mNameError\u001b[0m                                 Traceback (most recent call last)",
      "\u001b[1;32m<ipython-input-22-c49c79881ea6>\u001b[0m in \u001b[0;36m<module>\u001b[1;34m()\u001b[0m\n\u001b[1;32m----> 1\u001b[1;33m \u001b[0mkeras\u001b[0m\u001b[1;33m.\u001b[0m\u001b[0mmetrics\u001b[0m\u001b[1;33m.\u001b[0m\u001b[0mcategorical_crossentropy\u001b[0m\u001b[1;33m(\u001b[0m\u001b[0mval_labels\u001b[0m\u001b[1;33m,\u001b[0m \u001b[0mdo_clip\u001b[0m\u001b[1;33m(\u001b[0m\u001b[0mval_preds\u001b[0m\u001b[1;33m,\u001b[0m \u001b[1;36m0.93\u001b[0m\u001b[1;33m)\u001b[0m\u001b[1;33m)\u001b[0m\u001b[1;33m.\u001b[0m\u001b[0meval\u001b[0m\u001b[1;33m(\u001b[0m\u001b[1;33m)\u001b[0m\u001b[1;33m\u001b[0m\u001b[0m\n\u001b[0m",
      "\u001b[1;31mNameError\u001b[0m: name 'val_labels' is not defined"
     ]
    }
   ],
   "source": [
    "keras.metrics.categorical_crossentropy(val_labels, do_clip(val_preds, 0.93)).eval()"
   ]
  },
  {
   "cell_type": "code",
   "execution_count": 23,
   "metadata": {
    "collapsed": true
   },
   "outputs": [],
   "source": [
    "conv_test_feat = load_array(path+'results/conv_test_feat.dat')"
   ]
  },
  {
   "cell_type": "code",
   "execution_count": 24,
   "metadata": {
    "collapsed": true
   },
   "outputs": [],
   "source": [
    "preds = bn_model.predict(conv_test_feat, batch_size=batch_size*2)"
   ]
  },
  {
   "cell_type": "code",
   "execution_count": 25,
   "metadata": {
    "collapsed": true
   },
   "outputs": [],
   "source": [
    "subm = do_clip(preds,0.93)"
   ]
  },
  {
   "cell_type": "code",
   "execution_count": 26,
   "metadata": {
    "collapsed": true
   },
   "outputs": [],
   "source": [
    "subm_name = path+'results/subm.gz'"
   ]
  },
  {
   "cell_type": "code",
   "execution_count": 50,
   "metadata": {
    "collapsed": true
   },
   "outputs": [],
   "source": [
    "classes = sorted(batches.class_indices, key=batches.class_indices.get)"
   ]
  },
  {
   "cell_type": "code",
   "execution_count": 53,
   "metadata": {
    "collapsed": false
   },
   "outputs": [
    {
     "data": {
      "text/html": [
       "<div>\n",
       "<style>\n",
       "    .dataframe thead tr:only-child th {\n",
       "        text-align: right;\n",
       "    }\n",
       "\n",
       "    .dataframe thead th {\n",
       "        text-align: left;\n",
       "    }\n",
       "\n",
       "    .dataframe tbody tr th {\n",
       "        vertical-align: top;\n",
       "    }\n",
       "</style>\n",
       "<table border=\"1\" class=\"dataframe\">\n",
       "  <thead>\n",
       "    <tr style=\"text-align: right;\">\n",
       "      <th></th>\n",
       "      <th>img</th>\n",
       "      <th>1</th>\n",
       "      <th>2</th>\n",
       "      <th>3</th>\n",
       "      <th>4</th>\n",
       "    </tr>\n",
       "  </thead>\n",
       "  <tbody>\n",
       "    <tr>\n",
       "      <th>0</th>\n",
       "      <td>0.jpg</td>\n",
       "      <td>0.930000</td>\n",
       "      <td>0.010243</td>\n",
       "      <td>0.007778</td>\n",
       "      <td>0.007778</td>\n",
       "    </tr>\n",
       "    <tr>\n",
       "      <th>1</th>\n",
       "      <td>0jpg.jpg</td>\n",
       "      <td>0.930000</td>\n",
       "      <td>0.007778</td>\n",
       "      <td>0.007778</td>\n",
       "      <td>0.007778</td>\n",
       "    </tr>\n",
       "    <tr>\n",
       "      <th>2</th>\n",
       "      <td>1.jpg</td>\n",
       "      <td>0.007778</td>\n",
       "      <td>0.930000</td>\n",
       "      <td>0.007778</td>\n",
       "      <td>0.007778</td>\n",
       "    </tr>\n",
       "    <tr>\n",
       "      <th>3</th>\n",
       "      <td>10.jpg</td>\n",
       "      <td>0.007778</td>\n",
       "      <td>0.007778</td>\n",
       "      <td>0.007778</td>\n",
       "      <td>0.930000</td>\n",
       "    </tr>\n",
       "    <tr>\n",
       "      <th>4</th>\n",
       "      <td>11.jpg</td>\n",
       "      <td>0.930000</td>\n",
       "      <td>0.007778</td>\n",
       "      <td>0.007778</td>\n",
       "      <td>0.007778</td>\n",
       "    </tr>\n",
       "    <tr>\n",
       "      <th>5</th>\n",
       "      <td>12.jpg</td>\n",
       "      <td>0.930000</td>\n",
       "      <td>0.007778</td>\n",
       "      <td>0.009513</td>\n",
       "      <td>0.007778</td>\n",
       "    </tr>\n",
       "    <tr>\n",
       "      <th>6</th>\n",
       "      <td>13.jpg</td>\n",
       "      <td>0.030927</td>\n",
       "      <td>0.032437</td>\n",
       "      <td>0.930000</td>\n",
       "      <td>0.007778</td>\n",
       "    </tr>\n",
       "    <tr>\n",
       "      <th>7</th>\n",
       "      <td>14.jpg</td>\n",
       "      <td>0.015829</td>\n",
       "      <td>0.930000</td>\n",
       "      <td>0.007778</td>\n",
       "      <td>0.007778</td>\n",
       "    </tr>\n",
       "    <tr>\n",
       "      <th>8</th>\n",
       "      <td>15.jpg</td>\n",
       "      <td>0.084884</td>\n",
       "      <td>0.911997</td>\n",
       "      <td>0.007778</td>\n",
       "      <td>0.007778</td>\n",
       "    </tr>\n",
       "    <tr>\n",
       "      <th>9</th>\n",
       "      <td>16.jpg</td>\n",
       "      <td>0.544594</td>\n",
       "      <td>0.007778</td>\n",
       "      <td>0.444635</td>\n",
       "      <td>0.007778</td>\n",
       "    </tr>\n",
       "    <tr>\n",
       "      <th>10</th>\n",
       "      <td>17.jpg</td>\n",
       "      <td>0.007778</td>\n",
       "      <td>0.007778</td>\n",
       "      <td>0.007778</td>\n",
       "      <td>0.930000</td>\n",
       "    </tr>\n",
       "    <tr>\n",
       "      <th>11</th>\n",
       "      <td>18.jpg</td>\n",
       "      <td>0.007778</td>\n",
       "      <td>0.007778</td>\n",
       "      <td>0.032004</td>\n",
       "      <td>0.930000</td>\n",
       "    </tr>\n",
       "    <tr>\n",
       "      <th>12</th>\n",
       "      <td>19.jpg</td>\n",
       "      <td>0.007778</td>\n",
       "      <td>0.007778</td>\n",
       "      <td>0.007778</td>\n",
       "      <td>0.930000</td>\n",
       "    </tr>\n",
       "    <tr>\n",
       "      <th>13</th>\n",
       "      <td>2.jpg</td>\n",
       "      <td>0.555725</td>\n",
       "      <td>0.011257</td>\n",
       "      <td>0.431975</td>\n",
       "      <td>0.007778</td>\n",
       "    </tr>\n",
       "    <tr>\n",
       "      <th>14</th>\n",
       "      <td>20.jpg</td>\n",
       "      <td>0.007778</td>\n",
       "      <td>0.007778</td>\n",
       "      <td>0.015442</td>\n",
       "      <td>0.930000</td>\n",
       "    </tr>\n",
       "    <tr>\n",
       "      <th>15</th>\n",
       "      <td>21.jpg</td>\n",
       "      <td>0.007778</td>\n",
       "      <td>0.007778</td>\n",
       "      <td>0.007778</td>\n",
       "      <td>0.930000</td>\n",
       "    </tr>\n",
       "    <tr>\n",
       "      <th>16</th>\n",
       "      <td>212.jpg</td>\n",
       "      <td>0.007778</td>\n",
       "      <td>0.007778</td>\n",
       "      <td>0.007778</td>\n",
       "      <td>0.930000</td>\n",
       "    </tr>\n",
       "    <tr>\n",
       "      <th>17</th>\n",
       "      <td>22.jpg</td>\n",
       "      <td>0.007778</td>\n",
       "      <td>0.007778</td>\n",
       "      <td>0.035174</td>\n",
       "      <td>0.930000</td>\n",
       "    </tr>\n",
       "    <tr>\n",
       "      <th>18</th>\n",
       "      <td>23.jpg</td>\n",
       "      <td>0.007778</td>\n",
       "      <td>0.007778</td>\n",
       "      <td>0.007778</td>\n",
       "      <td>0.930000</td>\n",
       "    </tr>\n",
       "    <tr>\n",
       "      <th>19</th>\n",
       "      <td>23421.JPG</td>\n",
       "      <td>0.007778</td>\n",
       "      <td>0.007778</td>\n",
       "      <td>0.007778</td>\n",
       "      <td>0.930000</td>\n",
       "    </tr>\n",
       "    <tr>\n",
       "      <th>20</th>\n",
       "      <td>24.jpg</td>\n",
       "      <td>0.925489</td>\n",
       "      <td>0.071535</td>\n",
       "      <td>0.007778</td>\n",
       "      <td>0.007778</td>\n",
       "    </tr>\n",
       "    <tr>\n",
       "      <th>21</th>\n",
       "      <td>25.jpg</td>\n",
       "      <td>0.007778</td>\n",
       "      <td>0.007778</td>\n",
       "      <td>0.007778</td>\n",
       "      <td>0.930000</td>\n",
       "    </tr>\n",
       "    <tr>\n",
       "      <th>22</th>\n",
       "      <td>26.jpg</td>\n",
       "      <td>0.007778</td>\n",
       "      <td>0.007778</td>\n",
       "      <td>0.007778</td>\n",
       "      <td>0.930000</td>\n",
       "    </tr>\n",
       "    <tr>\n",
       "      <th>23</th>\n",
       "      <td>27.jpg</td>\n",
       "      <td>0.265823</td>\n",
       "      <td>0.728799</td>\n",
       "      <td>0.007778</td>\n",
       "      <td>0.007778</td>\n",
       "    </tr>\n",
       "    <tr>\n",
       "      <th>24</th>\n",
       "      <td>28.jpg</td>\n",
       "      <td>0.758690</td>\n",
       "      <td>0.007778</td>\n",
       "      <td>0.007778</td>\n",
       "      <td>0.229744</td>\n",
       "    </tr>\n",
       "    <tr>\n",
       "      <th>25</th>\n",
       "      <td>282.jpg</td>\n",
       "      <td>0.007778</td>\n",
       "      <td>0.007778</td>\n",
       "      <td>0.007778</td>\n",
       "      <td>0.930000</td>\n",
       "    </tr>\n",
       "    <tr>\n",
       "      <th>26</th>\n",
       "      <td>29.jpg</td>\n",
       "      <td>0.007778</td>\n",
       "      <td>0.007778</td>\n",
       "      <td>0.930000</td>\n",
       "      <td>0.007778</td>\n",
       "    </tr>\n",
       "    <tr>\n",
       "      <th>27</th>\n",
       "      <td>3.jpg</td>\n",
       "      <td>0.007778</td>\n",
       "      <td>0.178980</td>\n",
       "      <td>0.814129</td>\n",
       "      <td>0.007778</td>\n",
       "    </tr>\n",
       "    <tr>\n",
       "      <th>28</th>\n",
       "      <td>30.jpg</td>\n",
       "      <td>0.723251</td>\n",
       "      <td>0.195433</td>\n",
       "      <td>0.073741</td>\n",
       "      <td>0.007778</td>\n",
       "    </tr>\n",
       "    <tr>\n",
       "      <th>29</th>\n",
       "      <td>31.jpg</td>\n",
       "      <td>0.708645</td>\n",
       "      <td>0.284850</td>\n",
       "      <td>0.007778</td>\n",
       "      <td>0.007778</td>\n",
       "    </tr>\n",
       "    <tr>\n",
       "      <th>30</th>\n",
       "      <td>32.jpg</td>\n",
       "      <td>0.288912</td>\n",
       "      <td>0.016808</td>\n",
       "      <td>0.686507</td>\n",
       "      <td>0.007778</td>\n",
       "    </tr>\n",
       "    <tr>\n",
       "      <th>31</th>\n",
       "      <td>33.jpg</td>\n",
       "      <td>0.007778</td>\n",
       "      <td>0.007778</td>\n",
       "      <td>0.007778</td>\n",
       "      <td>0.930000</td>\n",
       "    </tr>\n",
       "    <tr>\n",
       "      <th>32</th>\n",
       "      <td>34.jpg</td>\n",
       "      <td>0.930000</td>\n",
       "      <td>0.007778</td>\n",
       "      <td>0.007778</td>\n",
       "      <td>0.007778</td>\n",
       "    </tr>\n",
       "    <tr>\n",
       "      <th>33</th>\n",
       "      <td>35.jpg</td>\n",
       "      <td>0.007778</td>\n",
       "      <td>0.008754</td>\n",
       "      <td>0.834037</td>\n",
       "      <td>0.152171</td>\n",
       "    </tr>\n",
       "    <tr>\n",
       "      <th>34</th>\n",
       "      <td>36.jpg</td>\n",
       "      <td>0.215833</td>\n",
       "      <td>0.783813</td>\n",
       "      <td>0.007778</td>\n",
       "      <td>0.007778</td>\n",
       "    </tr>\n",
       "    <tr>\n",
       "      <th>35</th>\n",
       "      <td>37.jpg</td>\n",
       "      <td>0.007778</td>\n",
       "      <td>0.007778</td>\n",
       "      <td>0.930000</td>\n",
       "      <td>0.007778</td>\n",
       "    </tr>\n",
       "    <tr>\n",
       "      <th>36</th>\n",
       "      <td>38.jpg</td>\n",
       "      <td>0.460437</td>\n",
       "      <td>0.007778</td>\n",
       "      <td>0.538816</td>\n",
       "      <td>0.007778</td>\n",
       "    </tr>\n",
       "    <tr>\n",
       "      <th>37</th>\n",
       "      <td>39.jpg</td>\n",
       "      <td>0.007778</td>\n",
       "      <td>0.007778</td>\n",
       "      <td>0.007778</td>\n",
       "      <td>0.930000</td>\n",
       "    </tr>\n",
       "    <tr>\n",
       "      <th>38</th>\n",
       "      <td>4.jpg</td>\n",
       "      <td>0.007778</td>\n",
       "      <td>0.007778</td>\n",
       "      <td>0.014154</td>\n",
       "      <td>0.930000</td>\n",
       "    </tr>\n",
       "    <tr>\n",
       "      <th>39</th>\n",
       "      <td>40.jpg</td>\n",
       "      <td>0.007778</td>\n",
       "      <td>0.007778</td>\n",
       "      <td>0.930000</td>\n",
       "      <td>0.007778</td>\n",
       "    </tr>\n",
       "    <tr>\n",
       "      <th>40</th>\n",
       "      <td>41.jpg</td>\n",
       "      <td>0.288484</td>\n",
       "      <td>0.692010</td>\n",
       "      <td>0.017285</td>\n",
       "      <td>0.007778</td>\n",
       "    </tr>\n",
       "    <tr>\n",
       "      <th>41</th>\n",
       "      <td>42.jpg</td>\n",
       "      <td>0.812247</td>\n",
       "      <td>0.166849</td>\n",
       "      <td>0.020014</td>\n",
       "      <td>0.007778</td>\n",
       "    </tr>\n",
       "    <tr>\n",
       "      <th>42</th>\n",
       "      <td>43.jpg</td>\n",
       "      <td>0.007778</td>\n",
       "      <td>0.021439</td>\n",
       "      <td>0.025965</td>\n",
       "      <td>0.930000</td>\n",
       "    </tr>\n",
       "    <tr>\n",
       "      <th>43</th>\n",
       "      <td>44.jpg</td>\n",
       "      <td>0.007778</td>\n",
       "      <td>0.007778</td>\n",
       "      <td>0.007778</td>\n",
       "      <td>0.930000</td>\n",
       "    </tr>\n",
       "    <tr>\n",
       "      <th>44</th>\n",
       "      <td>45.jpg</td>\n",
       "      <td>0.930000</td>\n",
       "      <td>0.018625</td>\n",
       "      <td>0.031793</td>\n",
       "      <td>0.007778</td>\n",
       "    </tr>\n",
       "    <tr>\n",
       "      <th>45</th>\n",
       "      <td>46.jpg</td>\n",
       "      <td>0.007778</td>\n",
       "      <td>0.007778</td>\n",
       "      <td>0.007778</td>\n",
       "      <td>0.930000</td>\n",
       "    </tr>\n",
       "    <tr>\n",
       "      <th>46</th>\n",
       "      <td>5.jpg</td>\n",
       "      <td>0.010866</td>\n",
       "      <td>0.015486</td>\n",
       "      <td>0.196757</td>\n",
       "      <td>0.776892</td>\n",
       "    </tr>\n",
       "    <tr>\n",
       "      <th>47</th>\n",
       "      <td>6.jpg</td>\n",
       "      <td>0.007778</td>\n",
       "      <td>0.007778</td>\n",
       "      <td>0.007778</td>\n",
       "      <td>0.930000</td>\n",
       "    </tr>\n",
       "    <tr>\n",
       "      <th>48</th>\n",
       "      <td>7.jpg</td>\n",
       "      <td>0.007778</td>\n",
       "      <td>0.007778</td>\n",
       "      <td>0.007778</td>\n",
       "      <td>0.930000</td>\n",
       "    </tr>\n",
       "    <tr>\n",
       "      <th>49</th>\n",
       "      <td>8.jpg</td>\n",
       "      <td>0.018096</td>\n",
       "      <td>0.007778</td>\n",
       "      <td>0.930000</td>\n",
       "      <td>0.007778</td>\n",
       "    </tr>\n",
       "    <tr>\n",
       "      <th>50</th>\n",
       "      <td>9.jpg</td>\n",
       "      <td>0.093230</td>\n",
       "      <td>0.024008</td>\n",
       "      <td>0.880146</td>\n",
       "      <td>0.007778</td>\n",
       "    </tr>\n",
       "    <tr>\n",
       "      <th>51</th>\n",
       "      <td>asdfdasf.JPG</td>\n",
       "      <td>0.007778</td>\n",
       "      <td>0.007778</td>\n",
       "      <td>0.007778</td>\n",
       "      <td>0.930000</td>\n",
       "    </tr>\n",
       "    <tr>\n",
       "      <th>52</th>\n",
       "      <td>bottles-wine-4765121.jpg</td>\n",
       "      <td>0.767871</td>\n",
       "      <td>0.007778</td>\n",
       "      <td>0.010454</td>\n",
       "      <td>0.220350</td>\n",
       "    </tr>\n",
       "    <tr>\n",
       "      <th>53</th>\n",
       "      <td>dfkj.JPG</td>\n",
       "      <td>0.306225</td>\n",
       "      <td>0.679969</td>\n",
       "      <td>0.008054</td>\n",
       "      <td>0.007778</td>\n",
       "    </tr>\n",
       "    <tr>\n",
       "      <th>54</th>\n",
       "      <td>drgfasf.JPG</td>\n",
       "      <td>0.007778</td>\n",
       "      <td>0.930000</td>\n",
       "      <td>0.007778</td>\n",
       "      <td>0.007778</td>\n",
       "    </tr>\n",
       "    <tr>\n",
       "      <th>55</th>\n",
       "      <td>dsfgdfsg.JPG</td>\n",
       "      <td>0.930000</td>\n",
       "      <td>0.015429</td>\n",
       "      <td>0.007778</td>\n",
       "      <td>0.007778</td>\n",
       "    </tr>\n",
       "    <tr>\n",
       "      <th>56</th>\n",
       "      <td>lghdfkjs.jpg</td>\n",
       "      <td>0.007778</td>\n",
       "      <td>0.007778</td>\n",
       "      <td>0.930000</td>\n",
       "      <td>0.007778</td>\n",
       "    </tr>\n",
       "  </tbody>\n",
       "</table>\n",
       "</div>"
      ],
      "text/plain": [
       "                         img         1         2         3         4\n",
       "0                      0.jpg  0.930000  0.010243  0.007778  0.007778\n",
       "1                   0jpg.jpg  0.930000  0.007778  0.007778  0.007778\n",
       "2                      1.jpg  0.007778  0.930000  0.007778  0.007778\n",
       "3                     10.jpg  0.007778  0.007778  0.007778  0.930000\n",
       "4                     11.jpg  0.930000  0.007778  0.007778  0.007778\n",
       "5                     12.jpg  0.930000  0.007778  0.009513  0.007778\n",
       "6                     13.jpg  0.030927  0.032437  0.930000  0.007778\n",
       "7                     14.jpg  0.015829  0.930000  0.007778  0.007778\n",
       "8                     15.jpg  0.084884  0.911997  0.007778  0.007778\n",
       "9                     16.jpg  0.544594  0.007778  0.444635  0.007778\n",
       "10                    17.jpg  0.007778  0.007778  0.007778  0.930000\n",
       "11                    18.jpg  0.007778  0.007778  0.032004  0.930000\n",
       "12                    19.jpg  0.007778  0.007778  0.007778  0.930000\n",
       "13                     2.jpg  0.555725  0.011257  0.431975  0.007778\n",
       "14                    20.jpg  0.007778  0.007778  0.015442  0.930000\n",
       "15                    21.jpg  0.007778  0.007778  0.007778  0.930000\n",
       "16                   212.jpg  0.007778  0.007778  0.007778  0.930000\n",
       "17                    22.jpg  0.007778  0.007778  0.035174  0.930000\n",
       "18                    23.jpg  0.007778  0.007778  0.007778  0.930000\n",
       "19                 23421.JPG  0.007778  0.007778  0.007778  0.930000\n",
       "20                    24.jpg  0.925489  0.071535  0.007778  0.007778\n",
       "21                    25.jpg  0.007778  0.007778  0.007778  0.930000\n",
       "22                    26.jpg  0.007778  0.007778  0.007778  0.930000\n",
       "23                    27.jpg  0.265823  0.728799  0.007778  0.007778\n",
       "24                    28.jpg  0.758690  0.007778  0.007778  0.229744\n",
       "25                   282.jpg  0.007778  0.007778  0.007778  0.930000\n",
       "26                    29.jpg  0.007778  0.007778  0.930000  0.007778\n",
       "27                     3.jpg  0.007778  0.178980  0.814129  0.007778\n",
       "28                    30.jpg  0.723251  0.195433  0.073741  0.007778\n",
       "29                    31.jpg  0.708645  0.284850  0.007778  0.007778\n",
       "30                    32.jpg  0.288912  0.016808  0.686507  0.007778\n",
       "31                    33.jpg  0.007778  0.007778  0.007778  0.930000\n",
       "32                    34.jpg  0.930000  0.007778  0.007778  0.007778\n",
       "33                    35.jpg  0.007778  0.008754  0.834037  0.152171\n",
       "34                    36.jpg  0.215833  0.783813  0.007778  0.007778\n",
       "35                    37.jpg  0.007778  0.007778  0.930000  0.007778\n",
       "36                    38.jpg  0.460437  0.007778  0.538816  0.007778\n",
       "37                    39.jpg  0.007778  0.007778  0.007778  0.930000\n",
       "38                     4.jpg  0.007778  0.007778  0.014154  0.930000\n",
       "39                    40.jpg  0.007778  0.007778  0.930000  0.007778\n",
       "40                    41.jpg  0.288484  0.692010  0.017285  0.007778\n",
       "41                    42.jpg  0.812247  0.166849  0.020014  0.007778\n",
       "42                    43.jpg  0.007778  0.021439  0.025965  0.930000\n",
       "43                    44.jpg  0.007778  0.007778  0.007778  0.930000\n",
       "44                    45.jpg  0.930000  0.018625  0.031793  0.007778\n",
       "45                    46.jpg  0.007778  0.007778  0.007778  0.930000\n",
       "46                     5.jpg  0.010866  0.015486  0.196757  0.776892\n",
       "47                     6.jpg  0.007778  0.007778  0.007778  0.930000\n",
       "48                     7.jpg  0.007778  0.007778  0.007778  0.930000\n",
       "49                     8.jpg  0.018096  0.007778  0.930000  0.007778\n",
       "50                     9.jpg  0.093230  0.024008  0.880146  0.007778\n",
       "51              asdfdasf.JPG  0.007778  0.007778  0.007778  0.930000\n",
       "52  bottles-wine-4765121.jpg  0.767871  0.007778  0.010454  0.220350\n",
       "53                  dfkj.JPG  0.306225  0.679969  0.008054  0.007778\n",
       "54               drgfasf.JPG  0.007778  0.930000  0.007778  0.007778\n",
       "55              dsfgdfsg.JPG  0.930000  0.015429  0.007778  0.007778\n",
       "56              lghdfkjs.jpg  0.007778  0.007778  0.930000  0.007778"
      ]
     },
     "execution_count": 53,
     "metadata": {},
     "output_type": "execute_result"
    }
   ],
   "source": [
    "submission = pd.DataFrame(subm, columns=classes)\n",
    "submission.insert(0, 'img', [a[4:] for a in test_filenames])\n",
    "submission#.head(10)"
   ]
  },
  {
   "cell_type": "code",
   "execution_count": 29,
   "metadata": {
    "collapsed": false
   },
   "outputs": [
    {
     "data": {
      "text/plain": [
       "(57L, 512L, 14L, 14L)"
      ]
     },
     "execution_count": 29,
     "metadata": {},
     "output_type": "execute_result"
    }
   ],
   "source": [
    "conv_test_feat.shape"
   ]
  },
  {
   "cell_type": "markdown",
   "metadata": {},
   "source": [
    "Receivig full model where productivity would be same:"
   ]
  },
  {
   "cell_type": "code",
   "execution_count": 57,
   "metadata": {
    "collapsed": true
   },
   "outputs": [],
   "source": [
    "final_model = Sequential(conv_layers)\n",
    "bn_layers = bn_model.layers #get_bn_da_layers(p)\n",
    "for layer in final_model.layers: layer.trainable = False\n",
    "for layer in bn_layers: \n",
    "    final_model.add(layer)\n",
    "    "
   ]
  },
  {
   "cell_type": "code",
   "execution_count": 58,
   "metadata": {
    "collapsed": true
   },
   "outputs": [],
   "source": [
    "final_model.compile(Adam(), 'categorical_crossentropy', metrics=['accuracy'])"
   ]
  },
  {
   "cell_type": "code",
   "execution_count": 59,
   "metadata": {
    "collapsed": true
   },
   "outputs": [
    {
     "name": "stdout",
     "output_type": "stream",
     "text": [
      "____________________________________________________________________________________________________\n",
      "Layer (type)                     Output Shape          Param #     Connected to                     \n",
      "====================================================================================================\n",
      "lambda_1 (Lambda)                (None, 3, 224, 224)   0           lambda_input_1[0][0]             \n",
      "____________________________________________________________________________________________________\n",
      "zeropadding2d_1 (ZeroPadding2D)  (None, 3, 226, 226)   0           lambda_1[0][0]                   \n",
      "____________________________________________________________________________________________________\n",
      "convolution2d_1 (Convolution2D)  (None, 64, 224, 224)  1792        zeropadding2d_1[9][0]            \n",
      "____________________________________________________________________________________________________\n",
      "zeropadding2d_2 (ZeroPadding2D)  (None, 64, 226, 226)  0           convolution2d_1[9][0]            \n",
      "____________________________________________________________________________________________________\n",
      "convolution2d_2 (Convolution2D)  (None, 64, 224, 224)  36928       zeropadding2d_2[9][0]            \n",
      "____________________________________________________________________________________________________\n",
      "maxpooling2d_1 (MaxPooling2D)    (None, 64, 112, 112)  0           convolution2d_2[9][0]            \n",
      "____________________________________________________________________________________________________\n",
      "zeropadding2d_3 (ZeroPadding2D)  (None, 64, 114, 114)  0           maxpooling2d_1[9][0]             \n",
      "____________________________________________________________________________________________________\n",
      "convolution2d_3 (Convolution2D)  (None, 128, 112, 112) 73856       zeropadding2d_3[9][0]            \n",
      "____________________________________________________________________________________________________\n",
      "zeropadding2d_4 (ZeroPadding2D)  (None, 128, 114, 114) 0           convolution2d_3[9][0]            \n",
      "____________________________________________________________________________________________________\n",
      "convolution2d_4 (Convolution2D)  (None, 128, 112, 112) 147584      zeropadding2d_4[9][0]            \n",
      "____________________________________________________________________________________________________\n",
      "maxpooling2d_2 (MaxPooling2D)    (None, 128, 56, 56)   0           convolution2d_4[9][0]            \n",
      "____________________________________________________________________________________________________\n",
      "zeropadding2d_5 (ZeroPadding2D)  (None, 128, 58, 58)   0           maxpooling2d_2[9][0]             \n",
      "____________________________________________________________________________________________________\n",
      "convolution2d_5 (Convolution2D)  (None, 256, 56, 56)   295168      zeropadding2d_5[9][0]            \n",
      "____________________________________________________________________________________________________\n",
      "zeropadding2d_6 (ZeroPadding2D)  (None, 256, 58, 58)   0           convolution2d_5[9][0]            \n",
      "____________________________________________________________________________________________________\n",
      "convolution2d_6 (Convolution2D)  (None, 256, 56, 56)   590080      zeropadding2d_6[9][0]            \n",
      "____________________________________________________________________________________________________\n",
      "zeropadding2d_7 (ZeroPadding2D)  (None, 256, 58, 58)   0           convolution2d_6[9][0]            \n",
      "____________________________________________________________________________________________________\n",
      "convolution2d_7 (Convolution2D)  (None, 256, 56, 56)   590080      zeropadding2d_7[9][0]            \n",
      "____________________________________________________________________________________________________\n",
      "maxpooling2d_3 (MaxPooling2D)    (None, 256, 28, 28)   0           convolution2d_7[9][0]            \n",
      "____________________________________________________________________________________________________\n",
      "zeropadding2d_8 (ZeroPadding2D)  (None, 256, 30, 30)   0           maxpooling2d_3[9][0]             \n",
      "____________________________________________________________________________________________________\n",
      "convolution2d_8 (Convolution2D)  (None, 512, 28, 28)   1180160     zeropadding2d_8[9][0]            \n",
      "____________________________________________________________________________________________________\n",
      "zeropadding2d_9 (ZeroPadding2D)  (None, 512, 30, 30)   0           convolution2d_8[9][0]            \n",
      "____________________________________________________________________________________________________\n",
      "convolution2d_9 (Convolution2D)  (None, 512, 28, 28)   2359808     zeropadding2d_9[9][0]            \n",
      "____________________________________________________________________________________________________\n",
      "zeropadding2d_10 (ZeroPadding2D) (None, 512, 30, 30)   0           convolution2d_9[9][0]            \n",
      "____________________________________________________________________________________________________\n",
      "convolution2d_10 (Convolution2D) (None, 512, 28, 28)   2359808     zeropadding2d_10[9][0]           \n",
      "____________________________________________________________________________________________________\n",
      "maxpooling2d_4 (MaxPooling2D)    (None, 512, 14, 14)   0           convolution2d_10[9][0]           \n",
      "____________________________________________________________________________________________________\n",
      "zeropadding2d_11 (ZeroPadding2D) (None, 512, 16, 16)   0           maxpooling2d_4[9][0]             \n",
      "____________________________________________________________________________________________________\n",
      "convolution2d_11 (Convolution2D) (None, 512, 14, 14)   2359808     zeropadding2d_11[9][0]           \n",
      "____________________________________________________________________________________________________\n",
      "zeropadding2d_12 (ZeroPadding2D) (None, 512, 16, 16)   0           convolution2d_11[9][0]           \n",
      "____________________________________________________________________________________________________\n",
      "convolution2d_12 (Convolution2D) (None, 512, 14, 14)   2359808     zeropadding2d_12[9][0]           \n",
      "____________________________________________________________________________________________________\n",
      "zeropadding2d_13 (ZeroPadding2D) (None, 512, 16, 16)   0           convolution2d_12[9][0]           \n",
      "____________________________________________________________________________________________________\n",
      "convolution2d_13 (Convolution2D) (None, 512, 14, 14)   2359808     zeropadding2d_13[9][0]           \n",
      "____________________________________________________________________________________________________\n",
      "maxpooling2d_6 (MaxPooling2D)    (None, 512, 7, 7)     0           convolution2d_13[9][0]           \n",
      "____________________________________________________________________________________________________\n",
      "flatten_2 (Flatten)              (None, 25088)         0           maxpooling2d_6[1][0]             \n",
      "____________________________________________________________________________________________________\n",
      "dropout_3 (Dropout)              (None, 25088)         0           flatten_2[1][0]                  \n",
      "____________________________________________________________________________________________________\n",
      "dense_4 (Dense)                  (None, 256)           6422784     dropout_3[1][0]                  \n",
      "____________________________________________________________________________________________________\n",
      "batchnormalization_1 (BatchNorma (None, 256)           1024        dense_4[1][0]                    \n",
      "____________________________________________________________________________________________________\n",
      "dropout_4 (Dropout)              (None, 256)           0           batchnormalization_1[1][0]       \n",
      "____________________________________________________________________________________________________\n",
      "dense_5 (Dense)                  (None, 256)           65792       dropout_4[1][0]                  \n",
      "____________________________________________________________________________________________________\n",
      "batchnormalization_2 (BatchNorma (None, 256)           1024        dense_5[1][0]                    \n",
      "____________________________________________________________________________________________________\n",
      "dropout_5 (Dropout)              (None, 256)           0           batchnormalization_2[1][0]       \n",
      "____________________________________________________________________________________________________\n",
      "dense_6 (Dense)                  (None, 4)             1028        dropout_5[1][0]                  \n",
      "====================================================================================================\n",
      "Total params: 21,206,340\n",
      "Trainable params: 6,490,628\n",
      "Non-trainable params: 14,715,712\n",
      "____________________________________________________________________________________________________\n"
     ]
    }
   ],
   "source": [
    "final_model.summary()"
   ]
  },
  {
   "cell_type": "code",
   "execution_count": 63,
   "metadata": {
    "collapsed": false
   },
   "outputs": [
    {
     "name": "stdout",
     "output_type": "stream",
     "text": [
      "[[  2.7304e-04   5.4656e-04   8.3965e-04   9.9834e-01]]\n",
      "Class is [3]\n"
     ]
    },
    {
     "data": {
      "text/plain": [
       "<matplotlib.image.AxesImage at 0x1fa5916a0>"
      ]
     },
     "execution_count": 63,
     "metadata": {},
     "output_type": "execute_result"
    },
    {
     "data": {
      "image/png": "[encoded data removed]",
      "text/plain": [
       "<matplotlib.figure.Figure at 0x1f80fab70>"
      ]
     },
     "metadata": {},
     "output_type": "display_data"
    }
   ],
   "source": [
    "from skimage.io import imread\n",
    "import cv2\n",
    "\n",
    "\n",
    "#original=imread(\"vodka.jpg\")#sham1#cog#vodka\n",
    "#s = cv2.resize(original, (224, 224))\n",
    "#sm=s.transpose(2, 0, 1)\n",
    "\n",
    "original=imread(path+'test/100/39.jpg')#sham1#cog#vodka\n",
    "\n",
    "s = cv2.resize(original, (224, 224))\n",
    "s=s.transpose(2, 0, 1)\n",
    "a=s.reshape((1, s.shape[0], s.shape[1], s.shape[2]))\n",
    "\n",
    "prediction = final_model.predict(a)\n",
    "print (prediction)\n",
    "print(\"Class is {}\".format(np.argmax(prediction, axis=1)))\n",
    "plt.imshow(original, interpolation='none')"
   ]
  },
  {
   "cell_type": "code",
   "execution_count": 65,
   "metadata": {
    "collapsed": true
   },
   "outputs": [],
   "source": [
    "final_model.save_weights(path+'results/final_20170101.h5')"
   ]
  },
  {
   "cell_type": "code",
   "execution_count": null,
   "metadata": {
    "collapsed": true
   },
   "outputs": [],
   "source": []
  }
 ],
 "metadata": {
  "anaconda-cloud": {},
  "kernelspec": {
   "display_name": "Python [conda env:terano]",
   "language": "python",
   "name": "conda-env-terano-py"
  },
  "language_info": {
   "codemirror_mode": {
    "name": "ipython",
    "version": 2
   },
   "file_extension": ".py",
   "mimetype": "text/x-python",
   "name": "python",
   "nbconvert_exporter": "python",
   "pygments_lexer": "ipython2",
   "version": "2.7.14"
  },
  "nav_menu": {},
  "nbpresent": {
   "slides": {
    "28b43202-5690-4169-9aca-6b9dabfeb3ec": {
     "id": "28b43202-5690-4169-9aca-6b9dabfeb3ec",
     "prev": null,
     "regions": {
      "3bba644a-cf4d-4a49-9fbd-e2554428cf9f": {
       "attrs": {
        "height": 0.8,
        "width": 0.8,
        "x": 0.1,
        "y": 0.1
       },
       "content": {
        "cell": "f3d3a388-7e2a-4151-9b50-c20498fceacc",
        "part": "whole"
       },
       "id": "3bba644a-cf4d-4a49-9fbd-e2554428cf9f"
      }
     }
    },
    "8104def2-4b68-44a0-8f1b-b03bf3b2a079": {
     "id": "8104def2-4b68-44a0-8f1b-b03bf3b2a079",
     "prev": "28b43202-5690-4169-9aca-6b9dabfeb3ec",
     "regions": {
      "7dded777-1ddf-4100-99ae-25cf1c15b575": {
       "attrs": {
        "height": 0.8,
        "width": 0.8,
        "x": 0.1,
        "y": 0.1
       },
       "content": {
        "cell": "fe47bd48-3414-4657-92e7-8b8d6cb0df00",
        "part": "whole"
       },
       "id": "7dded777-1ddf-4100-99ae-25cf1c15b575"
      }
     }
    }
   },
   "themes": {}
  },
  "toc": {
   "nav_menu": {
    "height": "148px",
    "width": "254px"
   },
   "navigate_menu": true,
   "number_sections": true,
   "sideBar": true,
   "threshold": 6,
   "toc_cell": false,
   "toc_section_display": "block",
   "toc_window_display": false
  }
 },
 "nbformat": 4,
 "nbformat_minor": 1
}
